{
 "cells": [
  {
   "attachments": {},
   "cell_type": "markdown",
   "id": "8889f180-3e30-415d-b163-9d051718624d",
   "metadata": {
    "jp-MarkdownHeadingCollapsed": true
   },
   "source": [
    "## Business Understanding\n",
    "\n",
    "The dataset dataset provides a detailed and comprehensive collection of aviation dataset which will help us determine which aircraft are the lowest risk for the company to start in this new aviation business. \n",
    "\n",
    "It encompases a wide range of information and from this, the stakeholder is interested to uncover trends and insights regarding aviation accidents in the USA and in international waters from 1962 to 2023.\n",
    "\n",
    "### Business Goal\n",
    "\n",
    "#### 1. Understanding Aviation risks:\n",
    "Identify key factors that influence flight accidents, such as year, instrument use,location engines, purpose…\n",
    "#### 2. Identifying Trends:\n",
    "Explore patterns in accidents across various countries, period…\n",
    "#### 3. Recommendations\n",
    "Provide actionable recommendations to minimize the accidents and fatalities .\n",
    "\n",
    "### Questions to Address:\n",
    " 1. Does evolution of time has an influence on the number of accidents?\n",
    "2. Is purpose of the aircraft a contributing factor to accidents?\n",
    "3. Is the weather instrument in use to measure the condition a contributing factor?\n",
    "4. Does the number of engines a contributing factor?\n"
   ]
  },
  {
   "cell_type": "markdown",
   "id": "7fc698b5-8a22-43ef-9260-412f2a47491a",
   "metadata": {
    "jp-MarkdownHeadingCollapsed": true
   },
   "source": [
    "## Data Understanding\n",
    "\n",
    "While we have quite a number of feature in the datset, we will explore them below and focus and the data meeting the qualities of good data."
   ]
  },
  {
   "cell_type": "markdown",
   "id": "921af0db-179d-486e-8ea9-83ee1bb476c6",
   "metadata": {},
   "source": [
    "## Loading the data "
   ]
  },
  {
   "cell_type": "code",
   "execution_count": 179,
   "id": "4fe22101-1e1f-45d0-8464-16b95c4683b7",
   "metadata": {},
   "outputs": [],
   "source": [
    "#Importing the necessary libraries\n",
    "\n",
    "import pandas as pd\n",
    "import numpy as np\n",
    "import matplotlib.pyplot  as plt\n",
    "%matplotlib inline\n",
    "import seaborn as sns\n",
    "import warnings\n",
    "warnings.filterwarnings('ignore')"
   ]
  },
  {
   "cell_type": "code",
   "execution_count": 180,
   "id": "c51b0ef4-68ec-42f1-82e8-328d3a8aec49",
   "metadata": {},
   "outputs": [
    {
     "data": {
      "text/html": [
       "<div>\n",
       "<style scoped>\n",
       "    .dataframe tbody tr th:only-of-type {\n",
       "        vertical-align: middle;\n",
       "    }\n",
       "\n",
       "    .dataframe tbody tr th {\n",
       "        vertical-align: top;\n",
       "    }\n",
       "\n",
       "    .dataframe thead th {\n",
       "        text-align: right;\n",
       "    }\n",
       "</style>\n",
       "<table border=\"1\" class=\"dataframe\">\n",
       "  <thead>\n",
       "    <tr style=\"text-align: right;\">\n",
       "      <th></th>\n",
       "      <th>Event.Id</th>\n",
       "      <th>Investigation.Type</th>\n",
       "      <th>Accident.Number</th>\n",
       "      <th>Event.Date</th>\n",
       "      <th>Location</th>\n",
       "      <th>Country</th>\n",
       "      <th>Latitude</th>\n",
       "      <th>Longitude</th>\n",
       "      <th>Airport.Code</th>\n",
       "      <th>Airport.Name</th>\n",
       "      <th>...</th>\n",
       "      <th>Purpose.of.flight</th>\n",
       "      <th>Air.carrier</th>\n",
       "      <th>Total.Fatal.Injuries</th>\n",
       "      <th>Total.Serious.Injuries</th>\n",
       "      <th>Total.Minor.Injuries</th>\n",
       "      <th>Total.Uninjured</th>\n",
       "      <th>Weather.Condition</th>\n",
       "      <th>Broad.phase.of.flight</th>\n",
       "      <th>Report.Status</th>\n",
       "      <th>Publication.Date</th>\n",
       "    </tr>\n",
       "  </thead>\n",
       "  <tbody>\n",
       "    <tr>\n",
       "      <th>0</th>\n",
       "      <td>20001218X45444</td>\n",
       "      <td>Accident</td>\n",
       "      <td>SEA87LA080</td>\n",
       "      <td>1948-10-24</td>\n",
       "      <td>MOOSE CREEK, ID</td>\n",
       "      <td>United States</td>\n",
       "      <td>NaN</td>\n",
       "      <td>NaN</td>\n",
       "      <td>NaN</td>\n",
       "      <td>NaN</td>\n",
       "      <td>...</td>\n",
       "      <td>Personal</td>\n",
       "      <td>NaN</td>\n",
       "      <td>2.0</td>\n",
       "      <td>0.0</td>\n",
       "      <td>0.0</td>\n",
       "      <td>0.0</td>\n",
       "      <td>UNK</td>\n",
       "      <td>Cruise</td>\n",
       "      <td>Probable Cause</td>\n",
       "      <td>NaN</td>\n",
       "    </tr>\n",
       "    <tr>\n",
       "      <th>1</th>\n",
       "      <td>20001218X45447</td>\n",
       "      <td>Accident</td>\n",
       "      <td>LAX94LA336</td>\n",
       "      <td>1962-07-19</td>\n",
       "      <td>BRIDGEPORT, CA</td>\n",
       "      <td>United States</td>\n",
       "      <td>NaN</td>\n",
       "      <td>NaN</td>\n",
       "      <td>NaN</td>\n",
       "      <td>NaN</td>\n",
       "      <td>...</td>\n",
       "      <td>Personal</td>\n",
       "      <td>NaN</td>\n",
       "      <td>4.0</td>\n",
       "      <td>0.0</td>\n",
       "      <td>0.0</td>\n",
       "      <td>0.0</td>\n",
       "      <td>UNK</td>\n",
       "      <td>Unknown</td>\n",
       "      <td>Probable Cause</td>\n",
       "      <td>19-09-1996</td>\n",
       "    </tr>\n",
       "    <tr>\n",
       "      <th>2</th>\n",
       "      <td>20061025X01555</td>\n",
       "      <td>Accident</td>\n",
       "      <td>NYC07LA005</td>\n",
       "      <td>1974-08-30</td>\n",
       "      <td>Saltville, VA</td>\n",
       "      <td>United States</td>\n",
       "      <td>36.922223</td>\n",
       "      <td>-81.878056</td>\n",
       "      <td>NaN</td>\n",
       "      <td>NaN</td>\n",
       "      <td>...</td>\n",
       "      <td>Personal</td>\n",
       "      <td>NaN</td>\n",
       "      <td>3.0</td>\n",
       "      <td>NaN</td>\n",
       "      <td>NaN</td>\n",
       "      <td>NaN</td>\n",
       "      <td>IMC</td>\n",
       "      <td>Cruise</td>\n",
       "      <td>Probable Cause</td>\n",
       "      <td>26-02-2007</td>\n",
       "    </tr>\n",
       "    <tr>\n",
       "      <th>3</th>\n",
       "      <td>20001218X45448</td>\n",
       "      <td>Accident</td>\n",
       "      <td>LAX96LA321</td>\n",
       "      <td>1977-06-19</td>\n",
       "      <td>EUREKA, CA</td>\n",
       "      <td>United States</td>\n",
       "      <td>NaN</td>\n",
       "      <td>NaN</td>\n",
       "      <td>NaN</td>\n",
       "      <td>NaN</td>\n",
       "      <td>...</td>\n",
       "      <td>Personal</td>\n",
       "      <td>NaN</td>\n",
       "      <td>2.0</td>\n",
       "      <td>0.0</td>\n",
       "      <td>0.0</td>\n",
       "      <td>0.0</td>\n",
       "      <td>IMC</td>\n",
       "      <td>Cruise</td>\n",
       "      <td>Probable Cause</td>\n",
       "      <td>12-09-2000</td>\n",
       "    </tr>\n",
       "    <tr>\n",
       "      <th>4</th>\n",
       "      <td>20041105X01764</td>\n",
       "      <td>Accident</td>\n",
       "      <td>CHI79FA064</td>\n",
       "      <td>1979-08-02</td>\n",
       "      <td>Canton, OH</td>\n",
       "      <td>United States</td>\n",
       "      <td>NaN</td>\n",
       "      <td>NaN</td>\n",
       "      <td>NaN</td>\n",
       "      <td>NaN</td>\n",
       "      <td>...</td>\n",
       "      <td>Personal</td>\n",
       "      <td>NaN</td>\n",
       "      <td>1.0</td>\n",
       "      <td>2.0</td>\n",
       "      <td>NaN</td>\n",
       "      <td>0.0</td>\n",
       "      <td>VMC</td>\n",
       "      <td>Approach</td>\n",
       "      <td>Probable Cause</td>\n",
       "      <td>16-04-1980</td>\n",
       "    </tr>\n",
       "  </tbody>\n",
       "</table>\n",
       "<p>5 rows × 31 columns</p>\n",
       "</div>"
      ],
      "text/plain": [
       "         Event.Id Investigation.Type Accident.Number  Event.Date  \\\n",
       "0  20001218X45444           Accident      SEA87LA080  1948-10-24   \n",
       "1  20001218X45447           Accident      LAX94LA336  1962-07-19   \n",
       "2  20061025X01555           Accident      NYC07LA005  1974-08-30   \n",
       "3  20001218X45448           Accident      LAX96LA321  1977-06-19   \n",
       "4  20041105X01764           Accident      CHI79FA064  1979-08-02   \n",
       "\n",
       "          Location        Country   Latitude   Longitude Airport.Code  \\\n",
       "0  MOOSE CREEK, ID  United States        NaN         NaN          NaN   \n",
       "1   BRIDGEPORT, CA  United States        NaN         NaN          NaN   \n",
       "2    Saltville, VA  United States  36.922223  -81.878056          NaN   \n",
       "3       EUREKA, CA  United States        NaN         NaN          NaN   \n",
       "4       Canton, OH  United States        NaN         NaN          NaN   \n",
       "\n",
       "  Airport.Name  ... Purpose.of.flight Air.carrier Total.Fatal.Injuries  \\\n",
       "0          NaN  ...          Personal         NaN                  2.0   \n",
       "1          NaN  ...          Personal         NaN                  4.0   \n",
       "2          NaN  ...          Personal         NaN                  3.0   \n",
       "3          NaN  ...          Personal         NaN                  2.0   \n",
       "4          NaN  ...          Personal         NaN                  1.0   \n",
       "\n",
       "  Total.Serious.Injuries Total.Minor.Injuries Total.Uninjured  \\\n",
       "0                    0.0                  0.0             0.0   \n",
       "1                    0.0                  0.0             0.0   \n",
       "2                    NaN                  NaN             NaN   \n",
       "3                    0.0                  0.0             0.0   \n",
       "4                    2.0                  NaN             0.0   \n",
       "\n",
       "  Weather.Condition  Broad.phase.of.flight   Report.Status Publication.Date  \n",
       "0               UNK                 Cruise  Probable Cause              NaN  \n",
       "1               UNK                Unknown  Probable Cause       19-09-1996  \n",
       "2               IMC                 Cruise  Probable Cause       26-02-2007  \n",
       "3               IMC                 Cruise  Probable Cause       12-09-2000  \n",
       "4               VMC               Approach  Probable Cause       16-04-1980  \n",
       "\n",
       "[5 rows x 31 columns]"
      ]
     },
     "execution_count": 180,
     "metadata": {},
     "output_type": "execute_result"
    }
   ],
   "source": [
    "# Loading the dataset\n",
    "# Using \"latin1\" encoding to handle special characters\n",
    "# Setting low_memory to False to avoid DtypeWarning for mixed types in columns (Column 6,7,28)\n",
    "\n",
    "df=pd.read_csv ('AviationData.csv',encoding='latin1',low_memory=False)\n",
    "\n",
    "# Displaying the first few rows to better understand the data set\n",
    "df.head()"
   ]
  },
  {
   "cell_type": "markdown",
   "id": "19bd465a-ae0f-4eb7-a0d9-e3fd6f808af0",
   "metadata": {},
   "source": [
    "## Exploratory Data Analysis - EDA with initial cleaning"
   ]
  },
  {
   "cell_type": "code",
   "execution_count": 181,
   "id": "eaa4affe-6890-4e5c-a36b-c37750fc4458",
   "metadata": {},
   "outputs": [
    {
     "name": "stdout",
     "output_type": "stream",
     "text": [
      "Shape of the dataset: (88889, 31)\n"
     ]
    }
   ],
   "source": [
    "#Lets look at the shape of our dataset to display the number of rows and columns\n",
    "\n",
    "print(\"Shape of the dataset:\", df.shape)"
   ]
  },
  {
   "cell_type": "code",
   "execution_count": 182,
   "id": "9b5ba67c-e631-4d24-8d25-f2d369bb26a0",
   "metadata": {},
   "outputs": [
    {
     "name": "stdout",
     "output_type": "stream",
     "text": [
      "Index(['Event.Id', 'Investigation.Type', 'Accident.Number', 'Event.Date',\n",
      "       'Location', 'Country', 'Latitude', 'Longitude', 'Airport.Code',\n",
      "       'Airport.Name', 'Injury.Severity', 'Aircraft.damage',\n",
      "       'Aircraft.Category', 'Registration.Number', 'Make', 'Model',\n",
      "       'Amateur.Built', 'Number.of.Engines', 'Engine.Type', 'FAR.Description',\n",
      "       'Schedule', 'Purpose.of.flight', 'Air.carrier', 'Total.Fatal.Injuries',\n",
      "       'Total.Serious.Injuries', 'Total.Minor.Injuries', 'Total.Uninjured',\n",
      "       'Weather.Condition', 'Broad.phase.of.flight', 'Report.Status',\n",
      "       'Publication.Date'],\n",
      "      dtype='object')\n"
     ]
    }
   ],
   "source": [
    "# We now want to look into our column names\n",
    "print(df.columns)"
   ]
  },
  {
   "cell_type": "code",
   "execution_count": 183,
   "id": "7e9b57f5",
   "metadata": {},
   "outputs": [
    {
     "data": {
      "text/plain": [
       "Index(['Event_Id', 'Investigation_Type', 'Accident_Number', 'Event_Date',\n",
       "       'Location', 'Country', 'Latitude', 'Longitude', 'Airport_Code',\n",
       "       'Airport_Name', 'Injury_Severity', 'Aircraft_damage',\n",
       "       'Aircraft_Category', 'Registration_Number', 'Make', 'Model',\n",
       "       'Amateur_Built', 'Number_of_Engines', 'Engine_Type', 'FAR_Description',\n",
       "       'Schedule', 'Purpose_of_flight', 'Air_carrier', 'Total_Fatal_Injuries',\n",
       "       'Total_Serious_Injuries', 'Total_Minor_Injuries', 'Total_Uninjured',\n",
       "       'Weather_Condition', 'Broad_phase_of_flight', 'Report_Status',\n",
       "       'Publication_Date'],\n",
       "      dtype='object')"
      ]
     },
     "execution_count": 183,
     "metadata": {},
     "output_type": "execute_result"
    }
   ],
   "source": [
    "# Replacing period (\".\") in column names with underscores(_) to enhance readability and consistency\n",
    "\n",
    "df.columns = df.columns.str.replace('.', '_')\n",
    "df.columns"
   ]
  },
  {
   "cell_type": "code",
   "execution_count": 184,
   "id": "c69a855f-740c-404b-937e-744bd873a3b6",
   "metadata": {},
   "outputs": [
    {
     "name": "stdout",
     "output_type": "stream",
     "text": [
      "<class 'pandas.core.frame.DataFrame'>\n",
      "RangeIndex: 88889 entries, 0 to 88888\n",
      "Data columns (total 31 columns):\n",
      " #   Column                  Non-Null Count  Dtype  \n",
      "---  ------                  --------------  -----  \n",
      " 0   Event_Id                88889 non-null  object \n",
      " 1   Investigation_Type      88889 non-null  object \n",
      " 2   Accident_Number         88889 non-null  object \n",
      " 3   Event_Date              88889 non-null  object \n",
      " 4   Location                88837 non-null  object \n",
      " 5   Country                 88663 non-null  object \n",
      " 6   Latitude                34382 non-null  object \n",
      " 7   Longitude               34373 non-null  object \n",
      " 8   Airport_Code            50249 non-null  object \n",
      " 9   Airport_Name            52790 non-null  object \n",
      " 10  Injury_Severity         87889 non-null  object \n",
      " 11  Aircraft_damage         85695 non-null  object \n",
      " 12  Aircraft_Category       32287 non-null  object \n",
      " 13  Registration_Number     87572 non-null  object \n",
      " 14  Make                    88826 non-null  object \n",
      " 15  Model                   88797 non-null  object \n",
      " 16  Amateur_Built           88787 non-null  object \n",
      " 17  Number_of_Engines       82805 non-null  float64\n",
      " 18  Engine_Type             81812 non-null  object \n",
      " 19  FAR_Description         32023 non-null  object \n",
      " 20  Schedule                12582 non-null  object \n",
      " 21  Purpose_of_flight       82697 non-null  object \n",
      " 22  Air_carrier             16648 non-null  object \n",
      " 23  Total_Fatal_Injuries    77488 non-null  float64\n",
      " 24  Total_Serious_Injuries  76379 non-null  float64\n",
      " 25  Total_Minor_Injuries    76956 non-null  float64\n",
      " 26  Total_Uninjured         82977 non-null  float64\n",
      " 27  Weather_Condition       84397 non-null  object \n",
      " 28  Broad_phase_of_flight   61724 non-null  object \n",
      " 29  Report_Status           82508 non-null  object \n",
      " 30  Publication_Date        75118 non-null  object \n",
      "dtypes: float64(5), object(26)\n",
      "memory usage: 21.0+ MB\n"
     ]
    }
   ],
   "source": [
    "# We are now finding further  information about data in each column\n",
    "df.info()"
   ]
  },
  {
   "cell_type": "markdown",
   "id": "82e6a3b0",
   "metadata": {},
   "source": [
    "### Clearly the data above contains a lot of missing values. We therefore need to look more into the missing values, identify the columns that we need to keep and the columns that we need to drop."
   ]
  },
  {
   "cell_type": "code",
   "execution_count": 185,
   "id": "5802a4ec-6e65-45be-9a28-089136d27109",
   "metadata": {},
   "outputs": [
    {
     "data": {
      "text/plain": [
       "Schedule                  76307\n",
       "Air_carrier               72241\n",
       "FAR_Description           56866\n",
       "Aircraft_Category         56602\n",
       "Longitude                 54516\n",
       "Latitude                  54507\n",
       "Airport_Code              38640\n",
       "Airport_Name              36099\n",
       "Broad_phase_of_flight     27165\n",
       "Publication_Date          13771\n",
       "Total_Serious_Injuries    12510\n",
       "Total_Minor_Injuries      11933\n",
       "Total_Fatal_Injuries      11401\n",
       "Engine_Type                7077\n",
       "Report_Status              6381\n",
       "Purpose_of_flight          6192\n",
       "Number_of_Engines          6084\n",
       "Total_Uninjured            5912\n",
       "Weather_Condition          4492\n",
       "Aircraft_damage            3194\n",
       "Registration_Number        1317\n",
       "Injury_Severity            1000\n",
       "Country                     226\n",
       "Amateur_Built               102\n",
       "Model                        92\n",
       "Make                         63\n",
       "Location                     52\n",
       "Investigation_Type            0\n",
       "Event_Date                    0\n",
       "Accident_Number               0\n",
       "Event_Id                      0\n",
       "dtype: int64"
      ]
     },
     "execution_count": 185,
     "metadata": {},
     "output_type": "execute_result"
    }
   ],
   "source": [
    "#Let us now  check and compute the counts of missing values per columns\n",
    "df.isnull().sum().sort_values(ascending=False)\n"
   ]
  },
  {
   "cell_type": "code",
   "execution_count": 186,
   "id": "3566e9af-836b-4c3d-8b0f-ad47986a94ba",
   "metadata": {},
   "outputs": [
    {
     "data": {
      "text/plain": [
       "Event_Id                   0.000000\n",
       "Investigation_Type         0.000000\n",
       "Accident_Number            0.000000\n",
       "Event_Date                 0.000000\n",
       "Location                   0.058500\n",
       "Country                    0.254250\n",
       "Latitude                  61.320298\n",
       "Longitude                 61.330423\n",
       "Airport_Code              43.469946\n",
       "Airport_Name              40.611324\n",
       "Injury_Severity            1.124999\n",
       "Aircraft_damage            3.593246\n",
       "Aircraft_Category         63.677170\n",
       "Registration_Number        1.481623\n",
       "Make                       0.070875\n",
       "Model                      0.103500\n",
       "Amateur_Built              0.114750\n",
       "Number_of_Engines          6.844491\n",
       "Engine_Type                7.961615\n",
       "FAR_Description           63.974170\n",
       "Schedule                  85.845268\n",
       "Purpose_of_flight          6.965991\n",
       "Air_carrier               81.271023\n",
       "Total_Fatal_Injuries      12.826109\n",
       "Total_Serious_Injuries    14.073732\n",
       "Total_Minor_Injuries      13.424608\n",
       "Total_Uninjured            6.650992\n",
       "Weather_Condition          5.053494\n",
       "Broad_phase_of_flight     30.560587\n",
       "Report_Status              7.178616\n",
       "Publication_Date          15.492356\n",
       "dtype: float64"
      ]
     },
     "execution_count": 186,
     "metadata": {},
     "output_type": "execute_result"
    }
   ],
   "source": [
    "#We now want to look into the proportion of the missing values in the data set to see which columns to drop\n",
    "df.isnull().mean()*100"
   ]
  },
  {
   "cell_type": "markdown",
   "id": "fd2206eb-4b9b-4de9-81e8-7b8d48418de9",
   "metadata": {},
   "source": [
    "### Clearly we need to drop the columns having more missing values, For this case, I will set a threshold of 35%. Any column with missing values above 35% will be dropped\n",
    "### Columns with >35% missing data often lack enough information to draw meaningful conclusions. Imputing  such a large gap of missing values risks introducing significant bias or noise into your analysis.Again columns with many missing values are less relevant to any anlysis hence the need to drop them."
   ]
  },
  {
   "cell_type": "code",
   "execution_count": 187,
   "id": "48ae7386-c696-4c68-9d9b-272cf6f1a734",
   "metadata": {},
   "outputs": [
    {
     "name": "stdout",
     "output_type": "stream",
     "text": [
      "Columns dropped: ['Latitude', 'Longitude', 'Airport_Code', 'Airport_Name', 'Aircraft_Category', 'FAR_Description', 'Schedule', 'Air_carrier']\n",
      "         Event_Id Investigation_Type Accident_Number  Event_Date  \\\n",
      "0  20001218X45444           Accident      SEA87LA080  1948-10-24   \n",
      "1  20001218X45447           Accident      LAX94LA336  1962-07-19   \n",
      "2  20061025X01555           Accident      NYC07LA005  1974-08-30   \n",
      "3  20001218X45448           Accident      LAX96LA321  1977-06-19   \n",
      "4  20041105X01764           Accident      CHI79FA064  1979-08-02   \n",
      "\n",
      "          Location        Country Injury_Severity Aircraft_damage  \\\n",
      "0  MOOSE CREEK, ID  United States        Fatal(2)       Destroyed   \n",
      "1   BRIDGEPORT, CA  United States        Fatal(4)       Destroyed   \n",
      "2    Saltville, VA  United States        Fatal(3)       Destroyed   \n",
      "3       EUREKA, CA  United States        Fatal(2)       Destroyed   \n",
      "4       Canton, OH  United States        Fatal(1)       Destroyed   \n",
      "\n",
      "  Registration_Number      Make  ...    Engine_Type Purpose_of_flight  \\\n",
      "0              NC6404   Stinson  ...  Reciprocating          Personal   \n",
      "1              N5069P     Piper  ...  Reciprocating          Personal   \n",
      "2              N5142R    Cessna  ...  Reciprocating          Personal   \n",
      "3              N1168J  Rockwell  ...  Reciprocating          Personal   \n",
      "4               N15NY    Cessna  ...            NaN          Personal   \n",
      "\n",
      "   Total_Fatal_Injuries Total_Serious_Injuries Total_Minor_Injuries  \\\n",
      "0                   2.0                    0.0                  0.0   \n",
      "1                   4.0                    0.0                  0.0   \n",
      "2                   3.0                    NaN                  NaN   \n",
      "3                   2.0                    0.0                  0.0   \n",
      "4                   1.0                    2.0                  NaN   \n",
      "\n",
      "   Total_Uninjured  Weather_Condition  Broad_phase_of_flight   Report_Status  \\\n",
      "0              0.0                UNK                 Cruise  Probable Cause   \n",
      "1              0.0                UNK                Unknown  Probable Cause   \n",
      "2              NaN                IMC                 Cruise  Probable Cause   \n",
      "3              0.0                IMC                 Cruise  Probable Cause   \n",
      "4              0.0                VMC               Approach  Probable Cause   \n",
      "\n",
      "  Publication_Date  \n",
      "0              NaN  \n",
      "1       19-09-1996  \n",
      "2       26-02-2007  \n",
      "3       12-09-2000  \n",
      "4       16-04-1980  \n",
      "\n",
      "[5 rows x 23 columns]\n"
     ]
    }
   ],
   "source": [
    "\n",
    "# Step 1: Calculate missing values\n",
    "threshold = 0.35\n",
    "missing_percent = df.isnull().mean()\n",
    "Column_Most_missing = missing_percent[missing_percent > threshold].index.tolist()\n",
    "\n",
    "# Step 2: Drop columns (if any exist)\n",
    "if len(Column_Most_missing) > 0:\n",
    "    df = df.drop(columns=Column_Most_missing)\n",
    "    print(\"Columns dropped:\", Column_Most_missing)\n",
    "else:\n",
    "    print(\"No columns exceeded the 35% missing threshold.\")\n",
    "\n",
    "# Step 3: Verify changes\n",
    "print(df.head())"
   ]
  },
  {
   "cell_type": "code",
   "execution_count": 188,
   "id": "a1bb2dbe-0c8b-42fa-8096-5a9bb90e402c",
   "metadata": {},
   "outputs": [
    {
     "data": {
      "text/html": [
       "<div>\n",
       "<style scoped>\n",
       "    .dataframe tbody tr th:only-of-type {\n",
       "        vertical-align: middle;\n",
       "    }\n",
       "\n",
       "    .dataframe tbody tr th {\n",
       "        vertical-align: top;\n",
       "    }\n",
       "\n",
       "    .dataframe thead th {\n",
       "        text-align: right;\n",
       "    }\n",
       "</style>\n",
       "<table border=\"1\" class=\"dataframe\">\n",
       "  <thead>\n",
       "    <tr style=\"text-align: right;\">\n",
       "      <th></th>\n",
       "      <th>Event_Id</th>\n",
       "      <th>Investigation_Type</th>\n",
       "      <th>Accident_Number</th>\n",
       "      <th>Event_Date</th>\n",
       "      <th>Location</th>\n",
       "      <th>Country</th>\n",
       "      <th>Injury_Severity</th>\n",
       "      <th>Aircraft_damage</th>\n",
       "      <th>Registration_Number</th>\n",
       "      <th>Make</th>\n",
       "      <th>...</th>\n",
       "      <th>Engine_Type</th>\n",
       "      <th>Purpose_of_flight</th>\n",
       "      <th>Total_Fatal_Injuries</th>\n",
       "      <th>Total_Serious_Injuries</th>\n",
       "      <th>Total_Minor_Injuries</th>\n",
       "      <th>Total_Uninjured</th>\n",
       "      <th>Weather_Condition</th>\n",
       "      <th>Broad_phase_of_flight</th>\n",
       "      <th>Report_Status</th>\n",
       "      <th>Publication_Date</th>\n",
       "    </tr>\n",
       "  </thead>\n",
       "  <tbody>\n",
       "    <tr>\n",
       "      <th>0</th>\n",
       "      <td>20001218X45444</td>\n",
       "      <td>Accident</td>\n",
       "      <td>SEA87LA080</td>\n",
       "      <td>1948-10-24</td>\n",
       "      <td>MOOSE CREEK, ID</td>\n",
       "      <td>United States</td>\n",
       "      <td>Fatal(2)</td>\n",
       "      <td>Destroyed</td>\n",
       "      <td>NC6404</td>\n",
       "      <td>Stinson</td>\n",
       "      <td>...</td>\n",
       "      <td>Reciprocating</td>\n",
       "      <td>Personal</td>\n",
       "      <td>2.0</td>\n",
       "      <td>0.0</td>\n",
       "      <td>0.0</td>\n",
       "      <td>0.0</td>\n",
       "      <td>UNK</td>\n",
       "      <td>Cruise</td>\n",
       "      <td>Probable Cause</td>\n",
       "      <td>NaN</td>\n",
       "    </tr>\n",
       "    <tr>\n",
       "      <th>1</th>\n",
       "      <td>20001218X45447</td>\n",
       "      <td>Accident</td>\n",
       "      <td>LAX94LA336</td>\n",
       "      <td>1962-07-19</td>\n",
       "      <td>BRIDGEPORT, CA</td>\n",
       "      <td>United States</td>\n",
       "      <td>Fatal(4)</td>\n",
       "      <td>Destroyed</td>\n",
       "      <td>N5069P</td>\n",
       "      <td>Piper</td>\n",
       "      <td>...</td>\n",
       "      <td>Reciprocating</td>\n",
       "      <td>Personal</td>\n",
       "      <td>4.0</td>\n",
       "      <td>0.0</td>\n",
       "      <td>0.0</td>\n",
       "      <td>0.0</td>\n",
       "      <td>UNK</td>\n",
       "      <td>Unknown</td>\n",
       "      <td>Probable Cause</td>\n",
       "      <td>19-09-1996</td>\n",
       "    </tr>\n",
       "    <tr>\n",
       "      <th>2</th>\n",
       "      <td>20061025X01555</td>\n",
       "      <td>Accident</td>\n",
       "      <td>NYC07LA005</td>\n",
       "      <td>1974-08-30</td>\n",
       "      <td>Saltville, VA</td>\n",
       "      <td>United States</td>\n",
       "      <td>Fatal(3)</td>\n",
       "      <td>Destroyed</td>\n",
       "      <td>N5142R</td>\n",
       "      <td>Cessna</td>\n",
       "      <td>...</td>\n",
       "      <td>Reciprocating</td>\n",
       "      <td>Personal</td>\n",
       "      <td>3.0</td>\n",
       "      <td>NaN</td>\n",
       "      <td>NaN</td>\n",
       "      <td>NaN</td>\n",
       "      <td>IMC</td>\n",
       "      <td>Cruise</td>\n",
       "      <td>Probable Cause</td>\n",
       "      <td>26-02-2007</td>\n",
       "    </tr>\n",
       "    <tr>\n",
       "      <th>3</th>\n",
       "      <td>20001218X45448</td>\n",
       "      <td>Accident</td>\n",
       "      <td>LAX96LA321</td>\n",
       "      <td>1977-06-19</td>\n",
       "      <td>EUREKA, CA</td>\n",
       "      <td>United States</td>\n",
       "      <td>Fatal(2)</td>\n",
       "      <td>Destroyed</td>\n",
       "      <td>N1168J</td>\n",
       "      <td>Rockwell</td>\n",
       "      <td>...</td>\n",
       "      <td>Reciprocating</td>\n",
       "      <td>Personal</td>\n",
       "      <td>2.0</td>\n",
       "      <td>0.0</td>\n",
       "      <td>0.0</td>\n",
       "      <td>0.0</td>\n",
       "      <td>IMC</td>\n",
       "      <td>Cruise</td>\n",
       "      <td>Probable Cause</td>\n",
       "      <td>12-09-2000</td>\n",
       "    </tr>\n",
       "    <tr>\n",
       "      <th>4</th>\n",
       "      <td>20041105X01764</td>\n",
       "      <td>Accident</td>\n",
       "      <td>CHI79FA064</td>\n",
       "      <td>1979-08-02</td>\n",
       "      <td>Canton, OH</td>\n",
       "      <td>United States</td>\n",
       "      <td>Fatal(1)</td>\n",
       "      <td>Destroyed</td>\n",
       "      <td>N15NY</td>\n",
       "      <td>Cessna</td>\n",
       "      <td>...</td>\n",
       "      <td>NaN</td>\n",
       "      <td>Personal</td>\n",
       "      <td>1.0</td>\n",
       "      <td>2.0</td>\n",
       "      <td>NaN</td>\n",
       "      <td>0.0</td>\n",
       "      <td>VMC</td>\n",
       "      <td>Approach</td>\n",
       "      <td>Probable Cause</td>\n",
       "      <td>16-04-1980</td>\n",
       "    </tr>\n",
       "  </tbody>\n",
       "</table>\n",
       "<p>5 rows × 23 columns</p>\n",
       "</div>"
      ],
      "text/plain": [
       "         Event_Id Investigation_Type Accident_Number  Event_Date  \\\n",
       "0  20001218X45444           Accident      SEA87LA080  1948-10-24   \n",
       "1  20001218X45447           Accident      LAX94LA336  1962-07-19   \n",
       "2  20061025X01555           Accident      NYC07LA005  1974-08-30   \n",
       "3  20001218X45448           Accident      LAX96LA321  1977-06-19   \n",
       "4  20041105X01764           Accident      CHI79FA064  1979-08-02   \n",
       "\n",
       "          Location        Country Injury_Severity Aircraft_damage  \\\n",
       "0  MOOSE CREEK, ID  United States        Fatal(2)       Destroyed   \n",
       "1   BRIDGEPORT, CA  United States        Fatal(4)       Destroyed   \n",
       "2    Saltville, VA  United States        Fatal(3)       Destroyed   \n",
       "3       EUREKA, CA  United States        Fatal(2)       Destroyed   \n",
       "4       Canton, OH  United States        Fatal(1)       Destroyed   \n",
       "\n",
       "  Registration_Number      Make  ...    Engine_Type Purpose_of_flight  \\\n",
       "0              NC6404   Stinson  ...  Reciprocating          Personal   \n",
       "1              N5069P     Piper  ...  Reciprocating          Personal   \n",
       "2              N5142R    Cessna  ...  Reciprocating          Personal   \n",
       "3              N1168J  Rockwell  ...  Reciprocating          Personal   \n",
       "4               N15NY    Cessna  ...            NaN          Personal   \n",
       "\n",
       "   Total_Fatal_Injuries Total_Serious_Injuries Total_Minor_Injuries  \\\n",
       "0                   2.0                    0.0                  0.0   \n",
       "1                   4.0                    0.0                  0.0   \n",
       "2                   3.0                    NaN                  NaN   \n",
       "3                   2.0                    0.0                  0.0   \n",
       "4                   1.0                    2.0                  NaN   \n",
       "\n",
       "   Total_Uninjured  Weather_Condition  Broad_phase_of_flight   Report_Status  \\\n",
       "0              0.0                UNK                 Cruise  Probable Cause   \n",
       "1              0.0                UNK                Unknown  Probable Cause   \n",
       "2              NaN                IMC                 Cruise  Probable Cause   \n",
       "3              0.0                IMC                 Cruise  Probable Cause   \n",
       "4              0.0                VMC               Approach  Probable Cause   \n",
       "\n",
       "  Publication_Date  \n",
       "0              NaN  \n",
       "1       19-09-1996  \n",
       "2       26-02-2007  \n",
       "3       12-09-2000  \n",
       "4       16-04-1980  \n",
       "\n",
       "[5 rows x 23 columns]"
      ]
     },
     "execution_count": 188,
     "metadata": {},
     "output_type": "execute_result"
    }
   ],
   "source": [
    "df.head()"
   ]
  },
  {
   "cell_type": "code",
   "execution_count": 189,
   "id": "31aacfed-e29c-4dc5-bec8-e6926d30dc3b",
   "metadata": {},
   "outputs": [
    {
     "data": {
      "text/html": [
       "<div>\n",
       "<style scoped>\n",
       "    .dataframe tbody tr th:only-of-type {\n",
       "        vertical-align: middle;\n",
       "    }\n",
       "\n",
       "    .dataframe tbody tr th {\n",
       "        vertical-align: top;\n",
       "    }\n",
       "\n",
       "    .dataframe thead th {\n",
       "        text-align: right;\n",
       "    }\n",
       "</style>\n",
       "<table border=\"1\" class=\"dataframe\">\n",
       "  <thead>\n",
       "    <tr style=\"text-align: right;\">\n",
       "      <th></th>\n",
       "      <th>Number_of_Engines</th>\n",
       "      <th>Total_Fatal_Injuries</th>\n",
       "      <th>Total_Serious_Injuries</th>\n",
       "      <th>Total_Minor_Injuries</th>\n",
       "      <th>Total_Uninjured</th>\n",
       "    </tr>\n",
       "  </thead>\n",
       "  <tbody>\n",
       "    <tr>\n",
       "      <th>count</th>\n",
       "      <td>82805.000000</td>\n",
       "      <td>77488.000000</td>\n",
       "      <td>76379.000000</td>\n",
       "      <td>76956.000000</td>\n",
       "      <td>82977.000000</td>\n",
       "    </tr>\n",
       "    <tr>\n",
       "      <th>mean</th>\n",
       "      <td>1.146585</td>\n",
       "      <td>0.647855</td>\n",
       "      <td>0.279881</td>\n",
       "      <td>0.357061</td>\n",
       "      <td>5.325440</td>\n",
       "    </tr>\n",
       "    <tr>\n",
       "      <th>std</th>\n",
       "      <td>0.446510</td>\n",
       "      <td>5.485960</td>\n",
       "      <td>1.544084</td>\n",
       "      <td>2.235625</td>\n",
       "      <td>27.913634</td>\n",
       "    </tr>\n",
       "    <tr>\n",
       "      <th>min</th>\n",
       "      <td>0.000000</td>\n",
       "      <td>0.000000</td>\n",
       "      <td>0.000000</td>\n",
       "      <td>0.000000</td>\n",
       "      <td>0.000000</td>\n",
       "    </tr>\n",
       "    <tr>\n",
       "      <th>25%</th>\n",
       "      <td>1.000000</td>\n",
       "      <td>0.000000</td>\n",
       "      <td>0.000000</td>\n",
       "      <td>0.000000</td>\n",
       "      <td>0.000000</td>\n",
       "    </tr>\n",
       "    <tr>\n",
       "      <th>50%</th>\n",
       "      <td>1.000000</td>\n",
       "      <td>0.000000</td>\n",
       "      <td>0.000000</td>\n",
       "      <td>0.000000</td>\n",
       "      <td>1.000000</td>\n",
       "    </tr>\n",
       "    <tr>\n",
       "      <th>75%</th>\n",
       "      <td>1.000000</td>\n",
       "      <td>0.000000</td>\n",
       "      <td>0.000000</td>\n",
       "      <td>0.000000</td>\n",
       "      <td>2.000000</td>\n",
       "    </tr>\n",
       "    <tr>\n",
       "      <th>max</th>\n",
       "      <td>8.000000</td>\n",
       "      <td>349.000000</td>\n",
       "      <td>161.000000</td>\n",
       "      <td>380.000000</td>\n",
       "      <td>699.000000</td>\n",
       "    </tr>\n",
       "  </tbody>\n",
       "</table>\n",
       "</div>"
      ],
      "text/plain": [
       "       Number_of_Engines  Total_Fatal_Injuries  Total_Serious_Injuries  \\\n",
       "count       82805.000000          77488.000000            76379.000000   \n",
       "mean            1.146585              0.647855                0.279881   \n",
       "std             0.446510              5.485960                1.544084   \n",
       "min             0.000000              0.000000                0.000000   \n",
       "25%             1.000000              0.000000                0.000000   \n",
       "50%             1.000000              0.000000                0.000000   \n",
       "75%             1.000000              0.000000                0.000000   \n",
       "max             8.000000            349.000000              161.000000   \n",
       "\n",
       "       Total_Minor_Injuries  Total_Uninjured  \n",
       "count          76956.000000     82977.000000  \n",
       "mean               0.357061         5.325440  \n",
       "std                2.235625        27.913634  \n",
       "min                0.000000         0.000000  \n",
       "25%                0.000000         0.000000  \n",
       "50%                0.000000         1.000000  \n",
       "75%                0.000000         2.000000  \n",
       "max              380.000000       699.000000  "
      ]
     },
     "execution_count": 189,
     "metadata": {},
     "output_type": "execute_result"
    }
   ],
   "source": [
    "#To check some descriptive \n",
    "\n",
    "df.describe()"
   ]
  },
  {
   "cell_type": "code",
   "execution_count": 190,
   "id": "2f226c2f",
   "metadata": {},
   "outputs": [
    {
     "data": {
      "text/html": [
       "<div>\n",
       "<style scoped>\n",
       "    .dataframe tbody tr th:only-of-type {\n",
       "        vertical-align: middle;\n",
       "    }\n",
       "\n",
       "    .dataframe tbody tr th {\n",
       "        vertical-align: top;\n",
       "    }\n",
       "\n",
       "    .dataframe thead th {\n",
       "        text-align: right;\n",
       "    }\n",
       "</style>\n",
       "<table border=\"1\" class=\"dataframe\">\n",
       "  <thead>\n",
       "    <tr style=\"text-align: right;\">\n",
       "      <th></th>\n",
       "      <th>Event_Id</th>\n",
       "      <th>Investigation_Type</th>\n",
       "      <th>Accident_Number</th>\n",
       "      <th>Event_Date</th>\n",
       "      <th>Location</th>\n",
       "      <th>Country</th>\n",
       "      <th>Injury_Severity</th>\n",
       "      <th>Aircraft_damage</th>\n",
       "      <th>Registration_Number</th>\n",
       "      <th>Make</th>\n",
       "      <th>...</th>\n",
       "      <th>Purpose_of_flight</th>\n",
       "      <th>Total_Fatal_Injuries</th>\n",
       "      <th>Total_Serious_Injuries</th>\n",
       "      <th>Total_Minor_Injuries</th>\n",
       "      <th>Total_Uninjured</th>\n",
       "      <th>Weather_Condition</th>\n",
       "      <th>Broad_phase_of_flight</th>\n",
       "      <th>Report_Status</th>\n",
       "      <th>Publication_Date</th>\n",
       "      <th>Year</th>\n",
       "    </tr>\n",
       "  </thead>\n",
       "  <tbody>\n",
       "    <tr>\n",
       "      <th>0</th>\n",
       "      <td>20001218X45444</td>\n",
       "      <td>Accident</td>\n",
       "      <td>SEA87LA080</td>\n",
       "      <td>1948-10-24</td>\n",
       "      <td>MOOSE CREEK, ID</td>\n",
       "      <td>United States</td>\n",
       "      <td>Fatal(2)</td>\n",
       "      <td>Destroyed</td>\n",
       "      <td>NC6404</td>\n",
       "      <td>Stinson</td>\n",
       "      <td>...</td>\n",
       "      <td>Personal</td>\n",
       "      <td>2.0</td>\n",
       "      <td>0.0</td>\n",
       "      <td>0.0</td>\n",
       "      <td>0.0</td>\n",
       "      <td>UNK</td>\n",
       "      <td>Cruise</td>\n",
       "      <td>Probable Cause</td>\n",
       "      <td>NaN</td>\n",
       "      <td>1948</td>\n",
       "    </tr>\n",
       "    <tr>\n",
       "      <th>1</th>\n",
       "      <td>20001218X45447</td>\n",
       "      <td>Accident</td>\n",
       "      <td>LAX94LA336</td>\n",
       "      <td>1962-07-19</td>\n",
       "      <td>BRIDGEPORT, CA</td>\n",
       "      <td>United States</td>\n",
       "      <td>Fatal(4)</td>\n",
       "      <td>Destroyed</td>\n",
       "      <td>N5069P</td>\n",
       "      <td>Piper</td>\n",
       "      <td>...</td>\n",
       "      <td>Personal</td>\n",
       "      <td>4.0</td>\n",
       "      <td>0.0</td>\n",
       "      <td>0.0</td>\n",
       "      <td>0.0</td>\n",
       "      <td>UNK</td>\n",
       "      <td>Unknown</td>\n",
       "      <td>Probable Cause</td>\n",
       "      <td>19-09-1996</td>\n",
       "      <td>1962</td>\n",
       "    </tr>\n",
       "    <tr>\n",
       "      <th>2</th>\n",
       "      <td>20061025X01555</td>\n",
       "      <td>Accident</td>\n",
       "      <td>NYC07LA005</td>\n",
       "      <td>1974-08-30</td>\n",
       "      <td>Saltville, VA</td>\n",
       "      <td>United States</td>\n",
       "      <td>Fatal(3)</td>\n",
       "      <td>Destroyed</td>\n",
       "      <td>N5142R</td>\n",
       "      <td>Cessna</td>\n",
       "      <td>...</td>\n",
       "      <td>Personal</td>\n",
       "      <td>3.0</td>\n",
       "      <td>NaN</td>\n",
       "      <td>NaN</td>\n",
       "      <td>NaN</td>\n",
       "      <td>IMC</td>\n",
       "      <td>Cruise</td>\n",
       "      <td>Probable Cause</td>\n",
       "      <td>26-02-2007</td>\n",
       "      <td>1974</td>\n",
       "    </tr>\n",
       "    <tr>\n",
       "      <th>3</th>\n",
       "      <td>20001218X45448</td>\n",
       "      <td>Accident</td>\n",
       "      <td>LAX96LA321</td>\n",
       "      <td>1977-06-19</td>\n",
       "      <td>EUREKA, CA</td>\n",
       "      <td>United States</td>\n",
       "      <td>Fatal(2)</td>\n",
       "      <td>Destroyed</td>\n",
       "      <td>N1168J</td>\n",
       "      <td>Rockwell</td>\n",
       "      <td>...</td>\n",
       "      <td>Personal</td>\n",
       "      <td>2.0</td>\n",
       "      <td>0.0</td>\n",
       "      <td>0.0</td>\n",
       "      <td>0.0</td>\n",
       "      <td>IMC</td>\n",
       "      <td>Cruise</td>\n",
       "      <td>Probable Cause</td>\n",
       "      <td>12-09-2000</td>\n",
       "      <td>1977</td>\n",
       "    </tr>\n",
       "    <tr>\n",
       "      <th>4</th>\n",
       "      <td>20041105X01764</td>\n",
       "      <td>Accident</td>\n",
       "      <td>CHI79FA064</td>\n",
       "      <td>1979-08-02</td>\n",
       "      <td>Canton, OH</td>\n",
       "      <td>United States</td>\n",
       "      <td>Fatal(1)</td>\n",
       "      <td>Destroyed</td>\n",
       "      <td>N15NY</td>\n",
       "      <td>Cessna</td>\n",
       "      <td>...</td>\n",
       "      <td>Personal</td>\n",
       "      <td>1.0</td>\n",
       "      <td>2.0</td>\n",
       "      <td>NaN</td>\n",
       "      <td>0.0</td>\n",
       "      <td>VMC</td>\n",
       "      <td>Approach</td>\n",
       "      <td>Probable Cause</td>\n",
       "      <td>16-04-1980</td>\n",
       "      <td>1979</td>\n",
       "    </tr>\n",
       "  </tbody>\n",
       "</table>\n",
       "<p>5 rows × 24 columns</p>\n",
       "</div>"
      ],
      "text/plain": [
       "         Event_Id Investigation_Type Accident_Number Event_Date  \\\n",
       "0  20001218X45444           Accident      SEA87LA080 1948-10-24   \n",
       "1  20001218X45447           Accident      LAX94LA336 1962-07-19   \n",
       "2  20061025X01555           Accident      NYC07LA005 1974-08-30   \n",
       "3  20001218X45448           Accident      LAX96LA321 1977-06-19   \n",
       "4  20041105X01764           Accident      CHI79FA064 1979-08-02   \n",
       "\n",
       "          Location        Country Injury_Severity Aircraft_damage  \\\n",
       "0  MOOSE CREEK, ID  United States        Fatal(2)       Destroyed   \n",
       "1   BRIDGEPORT, CA  United States        Fatal(4)       Destroyed   \n",
       "2    Saltville, VA  United States        Fatal(3)       Destroyed   \n",
       "3       EUREKA, CA  United States        Fatal(2)       Destroyed   \n",
       "4       Canton, OH  United States        Fatal(1)       Destroyed   \n",
       "\n",
       "  Registration_Number      Make  ... Purpose_of_flight Total_Fatal_Injuries  \\\n",
       "0              NC6404   Stinson  ...          Personal                  2.0   \n",
       "1              N5069P     Piper  ...          Personal                  4.0   \n",
       "2              N5142R    Cessna  ...          Personal                  3.0   \n",
       "3              N1168J  Rockwell  ...          Personal                  2.0   \n",
       "4               N15NY    Cessna  ...          Personal                  1.0   \n",
       "\n",
       "   Total_Serious_Injuries Total_Minor_Injuries Total_Uninjured  \\\n",
       "0                     0.0                  0.0             0.0   \n",
       "1                     0.0                  0.0             0.0   \n",
       "2                     NaN                  NaN             NaN   \n",
       "3                     0.0                  0.0             0.0   \n",
       "4                     2.0                  NaN             0.0   \n",
       "\n",
       "   Weather_Condition  Broad_phase_of_flight   Report_Status  Publication_Date  \\\n",
       "0                UNK                 Cruise  Probable Cause               NaN   \n",
       "1                UNK                Unknown  Probable Cause        19-09-1996   \n",
       "2                IMC                 Cruise  Probable Cause        26-02-2007   \n",
       "3                IMC                 Cruise  Probable Cause        12-09-2000   \n",
       "4                VMC               Approach  Probable Cause        16-04-1980   \n",
       "\n",
       "   Year  \n",
       "0  1948  \n",
       "1  1962  \n",
       "2  1974  \n",
       "3  1977  \n",
       "4  1979  \n",
       "\n",
       "[5 rows x 24 columns]"
      ]
     },
     "execution_count": 190,
     "metadata": {},
     "output_type": "execute_result"
    }
   ],
   "source": [
    "# Convert event_date column to datetime format\n",
    "df['Event_Date'] = pd.to_datetime(df['Event_Date'])\n",
    "\n",
    "\n",
    "# Extracting the year from the event_date column and creating a new column \"Year\"\n",
    "df['Year'] = df['Event_Date'].dt.year\n",
    "df.head()"
   ]
  },
  {
   "cell_type": "code",
   "execution_count": 191,
   "id": "ef23ceb9-528e-4fba-9e45-80ae850f3ee1",
   "metadata": {},
   "outputs": [
    {
     "data": {
      "text/plain": [
       "Event_Id                      0\n",
       "Investigation_Type            0\n",
       "Accident_Number               0\n",
       "Event_Date                    0\n",
       "Location                     52\n",
       "Country                     226\n",
       "Injury_Severity            1000\n",
       "Aircraft_damage            3194\n",
       "Registration_Number        1317\n",
       "Make                         63\n",
       "Model                        92\n",
       "Amateur_Built               102\n",
       "Number_of_Engines          6084\n",
       "Engine_Type                7077\n",
       "Purpose_of_flight          6192\n",
       "Total_Fatal_Injuries      11401\n",
       "Total_Serious_Injuries    12510\n",
       "Total_Minor_Injuries      11933\n",
       "Total_Uninjured            5912\n",
       "Weather_Condition          4492\n",
       "Broad_phase_of_flight     27165\n",
       "Report_Status              6381\n",
       "Publication_Date          13771\n",
       "Year                          0\n",
       "dtype: int64"
      ]
     },
     "execution_count": 191,
     "metadata": {},
     "output_type": "execute_result"
    }
   ],
   "source": [
    "#Let us now see the sum of missing values from the retained columns\n",
    "df.isnull().sum()\n"
   ]
  },
  {
   "cell_type": "code",
   "execution_count": 192,
   "id": "c73fecbf-f686-4114-a1a2-beaab45f1bb4",
   "metadata": {},
   "outputs": [
    {
     "data": {
      "text/plain": [
       "0"
      ]
     },
     "execution_count": 192,
     "metadata": {},
     "output_type": "execute_result"
    }
   ],
   "source": [
    "#Are there any duplicates? Let us see and confirm\n",
    "df.duplicated().sum()"
   ]
  },
  {
   "cell_type": "markdown",
   "id": "ec91741c",
   "metadata": {},
   "source": [
    "##### We do not have any duplicate values as seen from the above output"
   ]
  },
  {
   "cell_type": "code",
   "execution_count": 193,
   "id": "9a063001",
   "metadata": {},
   "outputs": [
    {
     "name": "stdout",
     "output_type": "stream",
     "text": [
      "Event_Id                          object\n",
      "Investigation_Type                object\n",
      "Accident_Number                   object\n",
      "Event_Date                datetime64[ns]\n",
      "Location                          object\n",
      "Country                           object\n",
      "Injury_Severity                   object\n",
      "Aircraft_damage                   object\n",
      "Registration_Number               object\n",
      "Make                              object\n",
      "Model                             object\n",
      "Amateur_Built                     object\n",
      "Number_of_Engines                float64\n",
      "Engine_Type                       object\n",
      "Purpose_of_flight                 object\n",
      "Total_Fatal_Injuries             float64\n",
      "Total_Serious_Injuries           float64\n",
      "Total_Minor_Injuries             float64\n",
      "Total_Uninjured                  float64\n",
      "Weather_Condition                 object\n",
      "Broad_phase_of_flight             object\n",
      "Report_Status                     object\n",
      "Publication_Date                  object\n",
      "Year                               int64\n",
      "dtype: object\n"
     ]
    }
   ],
   "source": [
    "# Let us now check the data types of the columns before we proceed\n",
    "\n",
    "print(df.dtypes)"
   ]
  },
  {
   "cell_type": "raw",
   "id": "e5bec243-e05a-4921-9450-14388be560e3",
   "metadata": {
    "vscode": {
     "languageId": "raw"
    }
   },
   "source": [
    "Let us now inspect the categorical records that are interesting to our question"
   ]
  },
  {
   "cell_type": "code",
   "execution_count": 194,
   "id": "4c96e3ca-5308-42f0-88e4-afe362381aaf",
   "metadata": {},
   "outputs": [
    {
     "data": {
      "text/plain": [
       "array(['Accident', 'Incident'], dtype=object)"
      ]
     },
     "execution_count": 194,
     "metadata": {},
     "output_type": "execute_result"
    }
   ],
   "source": [
    "df['Investigation_Type'].unique()"
   ]
  },
  {
   "cell_type": "code",
   "execution_count": 195,
   "id": "7f31fcb8-ad72-4025-80d2-5f0878040bd6",
   "metadata": {},
   "outputs": [
    {
     "data": {
      "text/plain": [
       "array(['Destroyed', 'Substantial', 'Minor', nan, 'Unknown'], dtype=object)"
      ]
     },
     "execution_count": 195,
     "metadata": {},
     "output_type": "execute_result"
    }
   ],
   "source": [
    "df['Aircraft_damage'].unique()"
   ]
  },
  {
   "cell_type": "code",
   "execution_count": 196,
   "id": "61a0c1b1-b4ca-45db-9c53-612e902a264f",
   "metadata": {},
   "outputs": [
    {
     "data": {
      "text/plain": [
       "array(['108-3', 'PA24-180', '172M', ..., 'ROTORWAY EXEC 162-F',\n",
       "       'KITFOX S5', 'M-8 EAGLE'], dtype=object)"
      ]
     },
     "execution_count": 196,
     "metadata": {},
     "output_type": "execute_result"
    }
   ],
   "source": [
    "df['Model'].unique()"
   ]
  },
  {
   "cell_type": "code",
   "execution_count": 197,
   "id": "6408d420-46d2-4e10-8ea5-212b1551e010",
   "metadata": {},
   "outputs": [
    {
     "data": {
      "text/plain": [
       "array(['Reciprocating', nan, 'Turbo Fan', 'Turbo Shaft', 'Unknown',\n",
       "       'Turbo Prop', 'Turbo Jet', 'None', 'Electric', 'Hybrid Rocket',\n",
       "       'Geared Turbofan', 'LR', 'NONE', 'UNK'], dtype=object)"
      ]
     },
     "execution_count": 197,
     "metadata": {},
     "output_type": "execute_result"
    }
   ],
   "source": [
    "df['Engine_Type'].unique()"
   ]
  },
  {
   "cell_type": "code",
   "execution_count": 198,
   "id": "cc4905ad-c3cb-4846-a257-5c7360eaf193",
   "metadata": {},
   "outputs": [
    {
     "data": {
      "text/plain": [
       "array(['Personal', nan, 'Business', 'Instructional', 'Unknown', 'Ferry',\n",
       "       'Executive/corporate', 'Aerial Observation', 'Aerial Application',\n",
       "       'Public Aircraft', 'Skydiving', 'Other Work Use', 'Positioning',\n",
       "       'Flight Test', 'Air Race/show', 'Air Drop',\n",
       "       'Public Aircraft - Federal', 'Glider Tow',\n",
       "       'Public Aircraft - Local', 'External Load',\n",
       "       'Public Aircraft - State', 'Banner Tow', 'Firefighting',\n",
       "       'Air Race show', 'PUBS', 'ASHO', 'PUBL'], dtype=object)"
      ]
     },
     "execution_count": 198,
     "metadata": {},
     "output_type": "execute_result"
    }
   ],
   "source": [
    "df['Purpose_of_flight'].unique()"
   ]
  },
  {
   "cell_type": "code",
   "execution_count": 199,
   "id": "cd518d19-a6fc-45c6-b802-096b84359731",
   "metadata": {},
   "outputs": [
    {
     "data": {
      "text/plain": [
       "array(['UNK', 'IMC', 'VMC', nan, 'Unk'], dtype=object)"
      ]
     },
     "execution_count": 199,
     "metadata": {},
     "output_type": "execute_result"
    }
   ],
   "source": [
    "df['Weather_Condition'].unique()"
   ]
  },
  {
   "cell_type": "code",
   "execution_count": 200,
   "id": "9a10c5b5-38a1-46b4-a920-2024ba461515",
   "metadata": {},
   "outputs": [
    {
     "data": {
      "text/plain": [
       "0        UNK\n",
       "1        UNK\n",
       "2        IMC\n",
       "3        IMC\n",
       "4        VMC\n",
       "        ... \n",
       "88884    NaN\n",
       "88885    NaN\n",
       "88886    VMC\n",
       "88887    NaN\n",
       "88888    NaN\n",
       "Name: Weather_Condition, Length: 88889, dtype: object"
      ]
     },
     "execution_count": 200,
     "metadata": {},
     "output_type": "execute_result"
    }
   ],
   "source": [
    "#Looking into the above output, we need to combine unk and UNK together\n",
    "df['Weather_Condition']=df['Weather_Condition'].replace('Unk','UNK')\n",
    "df['Weather_Condition']"
   ]
  },
  {
   "cell_type": "code",
   "execution_count": 201,
   "id": "8a0f3c58-e886-4b84-8f44-64fdd67a70c5",
   "metadata": {},
   "outputs": [
    {
     "data": {
      "text/plain": [
       "array(['Reciprocating', nan, 'Turbo Fan', 'Turbo Shaft', 'Unknown',\n",
       "       'Turbo Prop', 'Turbo Jet', 'None', 'Electric', 'Hybrid Rocket',\n",
       "       'Geared Turbofan', 'LR', 'NONE', 'UNK'], dtype=object)"
      ]
     },
     "execution_count": 201,
     "metadata": {},
     "output_type": "execute_result"
    }
   ],
   "source": [
    "df['Engine_Type'].unique()"
   ]
  },
  {
   "cell_type": "code",
   "execution_count": 202,
   "id": "17600f0f",
   "metadata": {},
   "outputs": [
    {
     "data": {
      "text/html": [
       "<div>\n",
       "<style scoped>\n",
       "    .dataframe tbody tr th:only-of-type {\n",
       "        vertical-align: middle;\n",
       "    }\n",
       "\n",
       "    .dataframe tbody tr th {\n",
       "        vertical-align: top;\n",
       "    }\n",
       "\n",
       "    .dataframe thead th {\n",
       "        text-align: right;\n",
       "    }\n",
       "</style>\n",
       "<table border=\"1\" class=\"dataframe\">\n",
       "  <thead>\n",
       "    <tr style=\"text-align: right;\">\n",
       "      <th></th>\n",
       "      <th>Event_Id</th>\n",
       "      <th>Investigation_Type</th>\n",
       "      <th>Accident_Number</th>\n",
       "      <th>Event_Date</th>\n",
       "      <th>Location</th>\n",
       "      <th>Country</th>\n",
       "      <th>Injury_Severity</th>\n",
       "      <th>Aircraft_damage</th>\n",
       "      <th>Registration_Number</th>\n",
       "      <th>Make</th>\n",
       "      <th>...</th>\n",
       "      <th>Purpose_of_flight</th>\n",
       "      <th>Total_Fatal_Injuries</th>\n",
       "      <th>Total_Serious_Injuries</th>\n",
       "      <th>Total_Minor_Injuries</th>\n",
       "      <th>Total_Uninjured</th>\n",
       "      <th>Weather_Condition</th>\n",
       "      <th>Broad_phase_of_flight</th>\n",
       "      <th>Report_Status</th>\n",
       "      <th>Publication_Date</th>\n",
       "      <th>Year</th>\n",
       "    </tr>\n",
       "  </thead>\n",
       "  <tbody>\n",
       "    <tr>\n",
       "      <th>0</th>\n",
       "      <td>20001218X45444</td>\n",
       "      <td>Accident</td>\n",
       "      <td>SEA87LA080</td>\n",
       "      <td>1948-10-24</td>\n",
       "      <td>MOOSE CREEK, ID</td>\n",
       "      <td>United States</td>\n",
       "      <td>Fatal(2)</td>\n",
       "      <td>Destroyed</td>\n",
       "      <td>NC6404</td>\n",
       "      <td>Stinson</td>\n",
       "      <td>...</td>\n",
       "      <td>Personal</td>\n",
       "      <td>2.0</td>\n",
       "      <td>0.0</td>\n",
       "      <td>0.0</td>\n",
       "      <td>0.0</td>\n",
       "      <td>UNK</td>\n",
       "      <td>Cruise</td>\n",
       "      <td>Probable Cause</td>\n",
       "      <td>NaN</td>\n",
       "      <td>1948</td>\n",
       "    </tr>\n",
       "    <tr>\n",
       "      <th>1</th>\n",
       "      <td>20001218X45447</td>\n",
       "      <td>Accident</td>\n",
       "      <td>LAX94LA336</td>\n",
       "      <td>1962-07-19</td>\n",
       "      <td>BRIDGEPORT, CA</td>\n",
       "      <td>United States</td>\n",
       "      <td>Fatal(4)</td>\n",
       "      <td>Destroyed</td>\n",
       "      <td>N5069P</td>\n",
       "      <td>Piper</td>\n",
       "      <td>...</td>\n",
       "      <td>Personal</td>\n",
       "      <td>4.0</td>\n",
       "      <td>0.0</td>\n",
       "      <td>0.0</td>\n",
       "      <td>0.0</td>\n",
       "      <td>UNK</td>\n",
       "      <td>Unknown</td>\n",
       "      <td>Probable Cause</td>\n",
       "      <td>19-09-1996</td>\n",
       "      <td>1962</td>\n",
       "    </tr>\n",
       "    <tr>\n",
       "      <th>2</th>\n",
       "      <td>20061025X01555</td>\n",
       "      <td>Accident</td>\n",
       "      <td>NYC07LA005</td>\n",
       "      <td>1974-08-30</td>\n",
       "      <td>Saltville, VA</td>\n",
       "      <td>United States</td>\n",
       "      <td>Fatal(3)</td>\n",
       "      <td>Destroyed</td>\n",
       "      <td>N5142R</td>\n",
       "      <td>Cessna</td>\n",
       "      <td>...</td>\n",
       "      <td>Personal</td>\n",
       "      <td>3.0</td>\n",
       "      <td>NaN</td>\n",
       "      <td>NaN</td>\n",
       "      <td>NaN</td>\n",
       "      <td>IMC</td>\n",
       "      <td>Cruise</td>\n",
       "      <td>Probable Cause</td>\n",
       "      <td>26-02-2007</td>\n",
       "      <td>1974</td>\n",
       "    </tr>\n",
       "    <tr>\n",
       "      <th>3</th>\n",
       "      <td>20001218X45448</td>\n",
       "      <td>Accident</td>\n",
       "      <td>LAX96LA321</td>\n",
       "      <td>1977-06-19</td>\n",
       "      <td>EUREKA, CA</td>\n",
       "      <td>United States</td>\n",
       "      <td>Fatal(2)</td>\n",
       "      <td>Destroyed</td>\n",
       "      <td>N1168J</td>\n",
       "      <td>Rockwell</td>\n",
       "      <td>...</td>\n",
       "      <td>Personal</td>\n",
       "      <td>2.0</td>\n",
       "      <td>0.0</td>\n",
       "      <td>0.0</td>\n",
       "      <td>0.0</td>\n",
       "      <td>IMC</td>\n",
       "      <td>Cruise</td>\n",
       "      <td>Probable Cause</td>\n",
       "      <td>12-09-2000</td>\n",
       "      <td>1977</td>\n",
       "    </tr>\n",
       "    <tr>\n",
       "      <th>4</th>\n",
       "      <td>20041105X01764</td>\n",
       "      <td>Accident</td>\n",
       "      <td>CHI79FA064</td>\n",
       "      <td>1979-08-02</td>\n",
       "      <td>Canton, OH</td>\n",
       "      <td>United States</td>\n",
       "      <td>Fatal(1)</td>\n",
       "      <td>Destroyed</td>\n",
       "      <td>N15NY</td>\n",
       "      <td>Cessna</td>\n",
       "      <td>...</td>\n",
       "      <td>Personal</td>\n",
       "      <td>1.0</td>\n",
       "      <td>2.0</td>\n",
       "      <td>NaN</td>\n",
       "      <td>0.0</td>\n",
       "      <td>VMC</td>\n",
       "      <td>Approach</td>\n",
       "      <td>Probable Cause</td>\n",
       "      <td>16-04-1980</td>\n",
       "      <td>1979</td>\n",
       "    </tr>\n",
       "  </tbody>\n",
       "</table>\n",
       "<p>5 rows × 24 columns</p>\n",
       "</div>"
      ],
      "text/plain": [
       "         Event_Id Investigation_Type Accident_Number Event_Date  \\\n",
       "0  20001218X45444           Accident      SEA87LA080 1948-10-24   \n",
       "1  20001218X45447           Accident      LAX94LA336 1962-07-19   \n",
       "2  20061025X01555           Accident      NYC07LA005 1974-08-30   \n",
       "3  20001218X45448           Accident      LAX96LA321 1977-06-19   \n",
       "4  20041105X01764           Accident      CHI79FA064 1979-08-02   \n",
       "\n",
       "          Location        Country Injury_Severity Aircraft_damage  \\\n",
       "0  MOOSE CREEK, ID  United States        Fatal(2)       Destroyed   \n",
       "1   BRIDGEPORT, CA  United States        Fatal(4)       Destroyed   \n",
       "2    Saltville, VA  United States        Fatal(3)       Destroyed   \n",
       "3       EUREKA, CA  United States        Fatal(2)       Destroyed   \n",
       "4       Canton, OH  United States        Fatal(1)       Destroyed   \n",
       "\n",
       "  Registration_Number      Make  ... Purpose_of_flight Total_Fatal_Injuries  \\\n",
       "0              NC6404   Stinson  ...          Personal                  2.0   \n",
       "1              N5069P     Piper  ...          Personal                  4.0   \n",
       "2              N5142R    Cessna  ...          Personal                  3.0   \n",
       "3              N1168J  Rockwell  ...          Personal                  2.0   \n",
       "4               N15NY    Cessna  ...          Personal                  1.0   \n",
       "\n",
       "   Total_Serious_Injuries Total_Minor_Injuries Total_Uninjured  \\\n",
       "0                     0.0                  0.0             0.0   \n",
       "1                     0.0                  0.0             0.0   \n",
       "2                     NaN                  NaN             NaN   \n",
       "3                     0.0                  0.0             0.0   \n",
       "4                     2.0                  NaN             0.0   \n",
       "\n",
       "   Weather_Condition  Broad_phase_of_flight   Report_Status  Publication_Date  \\\n",
       "0                UNK                 Cruise  Probable Cause               NaN   \n",
       "1                UNK                Unknown  Probable Cause        19-09-1996   \n",
       "2                IMC                 Cruise  Probable Cause        26-02-2007   \n",
       "3                IMC                 Cruise  Probable Cause        12-09-2000   \n",
       "4                VMC               Approach  Probable Cause        16-04-1980   \n",
       "\n",
       "   Year  \n",
       "0  1948  \n",
       "1  1962  \n",
       "2  1974  \n",
       "3  1977  \n",
       "4  1979  \n",
       "\n",
       "[5 rows x 24 columns]"
      ]
     },
     "execution_count": 202,
     "metadata": {},
     "output_type": "execute_result"
    }
   ],
   "source": [
    "df.head()"
   ]
  },
  {
   "cell_type": "markdown",
   "id": "df55ead4-d34c-4ce8-b175-8226c9c82f57",
   "metadata": {},
   "source": [
    "## Exploration of  some categorical variables"
   ]
  },
  {
   "cell_type": "code",
   "execution_count": 203,
   "id": "2734e0b0-9144-4347-a0a3-0bb32648181e",
   "metadata": {},
   "outputs": [
    {
     "data": {
      "image/png": "[encoded data removed]",
      "text/plain": [
       "<Figure size 1080x432 with 1 Axes>"
      ]
     },
     "metadata": {
      "needs_background": "light"
     },
     "output_type": "display_data"
    }
   ],
   "source": [
    "#Grouping while summarizing the counts per group \n",
    "yr_count=df.groupby('Year')['Event_Id'].count().reset_index()\n",
    "\n",
    "#visualizing the output\n",
    "plt.figure(figsize=(15,6))\n",
    "sns.lineplot(data=yr_count, x= 'Year', y='Event_Id', marker='*',markersize=10).set(title=\"Number of acidents since 1950\", xlabel='Period', ylabel=' Count of accidents')\n",
    "plt.show()"
   ]
  },
  {
   "cell_type": "raw",
   "id": "d0440ec3-9b12-41b7-a7c8-2d763ea83d99",
   "metadata": {
    "vscode": {
     "languageId": "raw"
    }
   },
   "source": [
    "Accidents before 1980 were very minimal an indication that no or little data may have been collected and analysed.\n",
    "The number of accidents shot significantly from 1980 to the highest and later declined steadily to  approximately 1600 in 2020"
   ]
  },
  {
   "cell_type": "code",
   "execution_count": 204,
   "id": "9b4c60e0-1fff-4bc3-a315-1a46cc00b03c",
   "metadata": {},
   "outputs": [
    {
     "data": {
      "image/png": "[encoded data removed]",
      "text/plain": [
       "<Figure size 1008x432 with 1 Axes>"
      ]
     },
     "metadata": {
      "needs_background": "light"
     },
     "output_type": "display_data"
    }
   ],
   "source": [
    "# Clean data (drop missing values)\n",
    "df_clean = df.dropna(subset=['Weather_Condition', 'Aircraft_damage'])\n",
    "\n",
    "# Group data by Weather Condition and Aircraft Damage\n",
    "Weather_condition = df_clean.groupby(['Weather_Condition', 'Aircraft_damage'])['Event_Id'].count().reset_index()\n",
    "\n",
    "# Define custom colors (adjust based on unique Aircraft_damage categories)\n",
    "unique_damage_categories = df_clean['Aircraft_damage'].nunique()\n",
    "custom_palette = sns.color_palette(\"Set2\", n_colors=unique_damage_categories)\n",
    "\n",
    "# Create the plot\n",
    "plt.figure(figsize=(14, 6))  # Wider figure\n",
    "ax = sns.barplot(\n",
    "    data=Weather_condition,\n",
    "    x='Weather_Condition',\n",
    "    y='Event_Id',\n",
    "    hue='Aircraft_damage',\n",
    "    palette=custom_palette\n",
    ")\n",
    "\n",
    "# Add labels to each bar\n",
    "for p in ax.patches:\n",
    "    height = p.get_height()\n",
    "    if height > 0:  # Skip labeling bars with height=0\n",
    "        ax.annotate(\n",
    "            f\"{int(height)}\",\n",
    "            (p.get_x() + p.get_width() / 2, height),\n",
    "            ha='center',\n",
    "            va='bottom',\n",
    "            fontsize=9,\n",
    "            xytext=(0, 2),\n",
    "            textcoords='offset points'\n",
    "        )\n",
    "\n",
    "# Customize titles and labels\n",
    "plt.title(\"Influence of Weather Conditions on Aircraft Accidents\", fontsize=14)\n",
    "plt.xlabel(\"Weather Condition\", fontsize=12)\n",
    "plt.ylabel(\"Count of Accidents\", fontsize=12)\n",
    "plt.xticks(rotation=90, ha='center')  # Rotate x-labels vertically\n",
    "\n",
    "# Adjust legend\n",
    "plt.legend(title='Aircraft Damage', bbox_to_anchor=(1.2, 1), loc='upper right')\n",
    "\n",
    "plt.tight_layout()\n",
    "plt.show()"
   ]
  },
  {
   "cell_type": "code",
   "execution_count": 205,
   "id": "447c32e6-01f0-4de1-8818-13c0b8963319",
   "metadata": {},
   "outputs": [
    {
     "data": {
      "image/png": "[encoded data removed]",
      "text/plain": [
       "<Figure size 720x432 with 1 Axes>"
      ]
     },
     "metadata": {
      "needs_background": "light"
     },
     "output_type": "display_data"
    }
   ],
   "source": [
    "# Check top 10 countries with accidents\n",
    "cntr = df.groupby(['Country'])['Event_Id'].count().reset_index() \\\n",
    "         .sort_values(by='Event_Id', ascending=False).head(10)\n",
    "\n",
    "# Create the horizontal bar plot\n",
    "plt.figure(figsize=(10, 6))\n",
    "sns.barplot(\n",
    "    data=cntr, \n",
    "    y='Country', \n",
    "    x='Event_Id', \n",
    "    orient=\"h\",  # Use \"h\" for horizontal orientation\n",
    "    palette=\"viridis\"  # Optional: Add color for better readability\n",
    ").set(\n",
    "    title=\"Number of Accidents per Country - Top 10\", \n",
    "    xlabel='Count of Accidents', \n",
    "    ylabel='Countries'\n",
    ")\n",
    "\n",
    "plt.tight_layout()\n",
    "plt.show()"
   ]
  },
  {
   "cell_type": "markdown",
   "id": "519681a2",
   "metadata": {},
   "source": [
    "United States had the most number of accidents with the rest of the countries having very low number of aircraft accidents."
   ]
  },
  {
   "cell_type": "code",
   "execution_count": 206,
   "id": "f129c9ef-4012-4841-a611-b673f9c272b5",
   "metadata": {},
   "outputs": [
    {
     "data": {
      "image/png": "[encoded data removed]",
      "text/plain": [
       "<Figure size 576x432 with 1 Axes>"
      ]
     },
     "metadata": {
      "needs_background": "light"
     },
     "output_type": "display_data"
    }
   ],
   "source": [
    "#Check purposes with accidents\n",
    "\n",
    "cntr=df.groupby(['Purpose_of_flight'])['Event_Id'].count().reset_index().sort_values(by='Event_Id', ascending=False).head(10)\n",
    "plt.figure(figsize=(8,6))\n",
    "sns.barplot(data=cntr, y='Purpose_of_flight', x='Event_Id', orient=\"h\").set(title=\"Number of acidents based on the purpose -Top 10\", ylabel='Purpose of the aircraft', xlabel=' Count of accidents')\n",
    "plt.show()"
   ]
  },
  {
   "cell_type": "markdown",
   "id": "8db4ec0c",
   "metadata": {},
   "source": [
    "Personal aircrafts led to the highest number of accidents followed by instructional aircrafts.Public aircrafts, however caused the least number of accidents calling for the question of how experienced the pilots flying the personal aircrafts are and how frequent the personal aircrafts are serviced compared to the public aircrafts."
   ]
  },
  {
   "cell_type": "markdown",
   "id": "fcfeb1da-740b-469d-ae80-4aabaf0f6435",
   "metadata": {},
   "source": [
    "#### Exploring some numerical variables"
   ]
  },
  {
   "cell_type": "code",
   "execution_count": 207,
   "id": "22af5d1b-6294-4681-8501-977112be45c7",
   "metadata": {},
   "outputs": [
    {
     "data": {
      "text/html": [
       "<div>\n",
       "<style scoped>\n",
       "    .dataframe tbody tr th:only-of-type {\n",
       "        vertical-align: middle;\n",
       "    }\n",
       "\n",
       "    .dataframe tbody tr th {\n",
       "        vertical-align: top;\n",
       "    }\n",
       "\n",
       "    .dataframe thead th {\n",
       "        text-align: right;\n",
       "    }\n",
       "</style>\n",
       "<table border=\"1\" class=\"dataframe\">\n",
       "  <thead>\n",
       "    <tr style=\"text-align: right;\">\n",
       "      <th></th>\n",
       "      <th>Number_of_Engines</th>\n",
       "      <th>Total_Fatal_Injuries</th>\n",
       "      <th>Total_Serious_Injuries</th>\n",
       "      <th>Total_Minor_Injuries</th>\n",
       "      <th>Total_Uninjured</th>\n",
       "    </tr>\n",
       "  </thead>\n",
       "  <tbody>\n",
       "    <tr>\n",
       "      <th>0</th>\n",
       "      <td>1.0</td>\n",
       "      <td>2.0</td>\n",
       "      <td>0.0</td>\n",
       "      <td>0.0</td>\n",
       "      <td>0.0</td>\n",
       "    </tr>\n",
       "    <tr>\n",
       "      <th>1</th>\n",
       "      <td>1.0</td>\n",
       "      <td>4.0</td>\n",
       "      <td>0.0</td>\n",
       "      <td>0.0</td>\n",
       "      <td>0.0</td>\n",
       "    </tr>\n",
       "    <tr>\n",
       "      <th>2</th>\n",
       "      <td>1.0</td>\n",
       "      <td>3.0</td>\n",
       "      <td>NaN</td>\n",
       "      <td>NaN</td>\n",
       "      <td>NaN</td>\n",
       "    </tr>\n",
       "  </tbody>\n",
       "</table>\n",
       "</div>"
      ],
      "text/plain": [
       "   Number_of_Engines  Total_Fatal_Injuries  Total_Serious_Injuries  \\\n",
       "0                1.0                   2.0                     0.0   \n",
       "1                1.0                   4.0                     0.0   \n",
       "2                1.0                   3.0                     NaN   \n",
       "\n",
       "   Total_Minor_Injuries  Total_Uninjured  \n",
       "0                   0.0              0.0  \n",
       "1                   0.0              0.0  \n",
       "2                   NaN              NaN  "
      ]
     },
     "execution_count": 207,
     "metadata": {},
     "output_type": "execute_result"
    }
   ],
   "source": [
    "#subset the data into numerical variables only\n",
    "num_var=df.select_dtypes(include=['number']).drop(columns=['Year'])\n",
    "num_var.head(3)"
   ]
  },
  {
   "cell_type": "code",
   "execution_count": 208,
   "id": "a4c6fbd3-e6fb-4e98-b837-bed10182bf13",
   "metadata": {},
   "outputs": [
    {
     "data": {
      "image/png": "[encoded data removed]",
      "text/plain": [
       "<Figure size 864x432 with 1 Axes>"
      ]
     },
     "metadata": {
      "needs_background": "light"
     },
     "output_type": "display_data"
    }
   ],
   "source": [
    "#Visualize the distribution\n",
    "# Visualize distribution of numerical variables\n",
    "plt.figure(figsize=(12, 6))\n",
    "\n",
    "# Melt numerical variables to long format\n",
    "num_var_long = num_var.melt(var_name='Variable', value_name='Value')\n",
    "\n",
    "# Create boxplot\n",
    "sns.boxplot(\n",
    "    data=num_var_long,\n",
    "    x='Variable',\n",
    "    y='Value',\n",
    "    palette='viridis'\n",
    ")\n",
    "\n",
    "# Improve formatting\n",
    "plt.title(\"Distribution of Numerical Variables\", fontsize=14, pad=15)\n",
    "plt.xlabel(\"Variables\", fontsize=12)\n",
    "plt.ylabel(\"Values\", fontsize=12)\n",
    "plt.xticks(rotation=45, ha='right')  # Rotate x-labels for readability\n",
    "\n",
    "# Add gridlines\n",
    "plt.grid(axis='y', alpha=0.3)\n",
    "\n",
    "plt.tight_layout()\n",
    "plt.show()"
   ]
  },
  {
   "cell_type": "code",
   "execution_count": 209,
   "id": "4210bd7e-ddbb-4634-bcc8-e8a394d95d05",
   "metadata": {},
   "outputs": [
    {
     "data": {
      "image/png": "[encoded data removed]",
      "text/plain": [
       "<Figure size 216x216 with 1 Axes>"
      ]
     },
     "metadata": {
      "needs_background": "light"
     },
     "output_type": "display_data"
    },
    {
     "data": {
      "image/png": "[encoded data removed]",
      "text/plain": [
       "<Figure size 216x216 with 1 Axes>"
      ]
     },
     "metadata": {
      "needs_background": "light"
     },
     "output_type": "display_data"
    },
    {
     "data": {
      "image/png": "[encoded data removed]",
      "text/plain": [
       "<Figure size 216x216 with 1 Axes>"
      ]
     },
     "metadata": {
      "needs_background": "light"
     },
     "output_type": "display_data"
    },
    {
     "data": {
      "image/png": "[encoded data removed]",
      "text/plain": [
       "<Figure size 216x216 with 1 Axes>"
      ]
     },
     "metadata": {
      "needs_background": "light"
     },
     "output_type": "display_data"
    },
    {
     "data": {
      "image/png": "[encoded data removed]",
      "text/plain": [
       "<Figure size 216x216 with 1 Axes>"
      ]
     },
     "metadata": {
      "needs_background": "light"
     },
     "output_type": "display_data"
    }
   ],
   "source": [
    "#Create individual figure for each numerical visual\n",
    "for column in num_var.columns:\n",
    "    plt.figure(figsize=(3, 3))\n",
    "    sns.histplot(data=num_var, x=column, kde=True, bins=10)\n",
    "    plt.title(f'Histogram of {column}')\n",
    "    plt.xlabel(column)\n",
    "    plt.ylabel('Frequency')\n",
    "    plt.show()"
   ]
  },
  {
   "cell_type": "markdown",
   "id": "e25aedcf-9bf8-4642-9089-626689fc07dd",
   "metadata": {},
   "source": [
    "## Further Data Cleaning"
   ]
  },
  {
   "cell_type": "code",
   "execution_count": 210,
   "id": "74a25c6b-ad3c-4399-a33b-02a952cffe5c",
   "metadata": {},
   "outputs": [
    {
     "data": {
      "text/plain": [
       "Location                     52\n",
       "Country                     226\n",
       "Injury_Severity            1000\n",
       "Aircraft_damage            3194\n",
       "Registration_Number        1317\n",
       "Make                         63\n",
       "Model                        92\n",
       "Amateur_Built               102\n",
       "Number_of_Engines          6084\n",
       "Engine_Type                7077\n",
       "Purpose_of_flight          6192\n",
       "Total_Fatal_Injuries      11401\n",
       "Total_Serious_Injuries    12510\n",
       "Total_Minor_Injuries      11933\n",
       "Total_Uninjured            5912\n",
       "Weather_Condition          4492\n",
       "Broad_phase_of_flight     27165\n",
       "Report_Status              6381\n",
       "Publication_Date          13771\n",
       "dtype: int64"
      ]
     },
     "execution_count": 210,
     "metadata": {},
     "output_type": "execute_result"
    }
   ],
   "source": [
    "#Check the count of missing data  in columns for which the count is greater than zero\n",
    "missing_cols = df.isnull().sum()[df.isnull().sum() > 0]\n",
    "\n",
    "missing_cols"
   ]
  },
  {
   "cell_type": "code",
   "execution_count": 211,
   "id": "8b4b3a86-86f8-43df-808c-5f7ecba75abb",
   "metadata": {},
   "outputs": [],
   "source": [
    "# We are now replacing the missing values for Location by mode of each country\n",
    "df['Location']=df['Location'].fillna(df.groupby('Country')['Location'].transform(lambda x: x.mode()[0] if not x.mode().empty else None))"
   ]
  },
  {
   "cell_type": "code",
   "execution_count": 212,
   "id": "fe988306-32ee-4f7d-93f2-4f91751f8d14",
   "metadata": {},
   "outputs": [],
   "source": [
    "# Replace the missing for Location by mode of countries. 3 locations are unable to clear because they are not associated to any country\n",
    "df['Country']=df['Country'].fillna(df['Country'].mode()[0])"
   ]
  },
  {
   "cell_type": "code",
   "execution_count": 213,
   "id": "910889d9-4169-4433-b73e-7ca869b63c98",
   "metadata": {},
   "outputs": [
    {
     "name": "stdout",
     "output_type": "stream",
     "text": [
      "Number_of_Engines         0\n",
      "Total_Fatal_Injuries      0\n",
      "Total_Serious_Injuries    0\n",
      "Total_Minor_Injuries      0\n",
      "Total_Uninjured           0\n",
      "Year                      0\n",
      "dtype: int64\n"
     ]
    }
   ],
   "source": [
    "#We will use mean to replace the missing values of numerical variables\n",
    "# Step 1: Select numerical columns\n",
    "num_var = df.select_dtypes(include=['int64', 'float64'])\n",
    "\n",
    "# Step 2: Fill missing values with column means\n",
    "df[num_var.columns] = df[num_var.columns].fillna(df[num_var.columns].mean())\n",
    "\n",
    "# Verify no missing values in numerical columns\n",
    "print(df[num_var.columns].isnull().sum())"
   ]
  },
  {
   "cell_type": "code",
   "execution_count": 214,
   "id": "d067c867-86f2-42cb-b48d-b587db26874e",
   "metadata": {},
   "outputs": [],
   "source": [
    "#We replace the make with the mode and for the model with the mode of each make. 14 models are unable to clean up since they are not associated to any make\n",
    "df['Make']=df['Make'].fillna(df['Make'].mode()[0])\n",
    "df['Model']=df['Model'].fillna(df.groupby('Make')['Model'].transform(lambda x: x.mode()[0] if not x.mode().empty else None))\n"
   ]
  },
  {
   "cell_type": "code",
   "execution_count": 215,
   "id": "3a13e70e-a7cf-4bbf-88c9-b6c9f5142b4e",
   "metadata": {},
   "outputs": [],
   "source": [
    "#Report status, Registration.Number, and Publication date  are of no interest to our goal, so I drop them\n",
    "df=df.drop(columns=['Report_Status','Publication_Date','Registration_Number'], axis=1)"
   ]
  },
  {
   "cell_type": "code",
   "execution_count": 216,
   "id": "9741e6fb-8950-444e-b68b-f2c5ab7c9742",
   "metadata": {},
   "outputs": [],
   "source": [
    "# We now replacing the Engine type with the mode of make and Model\n",
    "df['Engine_Type']=df['Engine_Type'].fillna(df.groupby(['Make','Model'])['Engine_Type'].transform(lambda x: x.mode()[0] if not x.mode().empty else None))"
   ]
  },
  {
   "cell_type": "code",
   "execution_count": 217,
   "id": "ba060cef-4c56-426c-9933-ddbe24ca90d7",
   "metadata": {},
   "outputs": [],
   "source": [
    "#For the number of engines, we replace the missing values with the mode. This is because in our analysis,we would like to treat this variable as categorical\n",
    "df['Number_of_Engines']=df['Number_of_Engines'].fillna(df['Number_of_Engines'].mode()[0]).astype('int')\n",
    "\n",
    "#replace aircraft with zero number of enngine with the mode as well\n",
    "df['Number_of_Engines']=df['Number_of_Engines'].replace(0,df['Number_of_Engines'].mode()[0])"
   ]
  },
  {
   "cell_type": "code",
   "execution_count": 218,
   "id": "605c8317-8067-4921-a74a-82ec4293b265",
   "metadata": {},
   "outputs": [],
   "source": [
    "# Finally, let us replace the rest of columns with mode"
   ]
  },
  {
   "cell_type": "code",
   "execution_count": 219,
   "id": "6ef3f952-c367-4394-bb96-4e69feb00b71",
   "metadata": {},
   "outputs": [],
   "source": [
    "df['Weather_Condition']=df['Weather_Condition'].fillna(df['Weather_Condition'].mode()[0])\n"
   ]
  },
  {
   "cell_type": "code",
   "execution_count": 220,
   "id": "a24030a4-ea68-4c59-90e8-5adc8764c16f",
   "metadata": {},
   "outputs": [],
   "source": [
    "df['Purpose_of_flight']=df['Purpose_of_flight'].fillna(df['Purpose_of_flight'].mode()[0])"
   ]
  },
  {
   "cell_type": "code",
   "execution_count": 221,
   "id": "d626ab50-7007-4e7f-b9e1-cc8a35c31abd",
   "metadata": {},
   "outputs": [],
   "source": [
    "df['Amateur_Built']=df['Amateur_Built'].fillna(df['Amateur_Built'].mode()[0])\n"
   ]
  },
  {
   "cell_type": "code",
   "execution_count": 222,
   "id": "42dcd7e3-ae68-4480-8f1a-abff79375430",
   "metadata": {},
   "outputs": [],
   "source": [
    "df['Injury_Severity']=df['Injury_Severity'].fillna(df['Injury_Severity'].mode()[0])\n"
   ]
  },
  {
   "cell_type": "code",
   "execution_count": 223,
   "id": "1825f5bf-25f6-4f26-8318-f05c8802495b",
   "metadata": {},
   "outputs": [],
   "source": [
    "df['Aircraft_damage']= df['Aircraft_damage'].fillna(df['Aircraft_damage'].mode()[0])\n"
   ]
  },
  {
   "cell_type": "code",
   "execution_count": 224,
   "id": "aee05b22-455b-4b35-b8ee-1addb3bee68a",
   "metadata": {},
   "outputs": [
    {
     "data": {
      "text/plain": [
       "Location                     4\n",
       "Model                       14\n",
       "Engine_Type               2105\n",
       "Broad_phase_of_flight    27165\n",
       "dtype: int64"
      ]
     },
     "execution_count": 224,
     "metadata": {},
     "output_type": "execute_result"
    }
   ],
   "source": [
    "#Check if we still have missing values\n",
    "missing_cols = df.isnull().sum()[df.isnull().sum() > 0]\n",
    "missing_cols"
   ]
  },
  {
   "cell_type": "code",
   "execution_count": 225,
   "id": "791e4dae-a059-46f9-8cf4-57399a7b7f8f",
   "metadata": {},
   "outputs": [],
   "source": [
    "#Since we still have missing values, we therefore need to drop all the above records"
   ]
  },
  {
   "cell_type": "code",
   "execution_count": 226,
   "id": "ebf26ab7-fadf-4f7e-9fda-14e252652269",
   "metadata": {},
   "outputs": [],
   "source": [
    "df=df.dropna(axis=0)"
   ]
  },
  {
   "cell_type": "code",
   "execution_count": 227,
   "id": "1261b3a4-3a43-488d-9cca-28d8c857d71a",
   "metadata": {},
   "outputs": [
    {
     "data": {
      "text/plain": [
       "Series([], dtype: int64)"
      ]
     },
     "execution_count": 227,
     "metadata": {},
     "output_type": "execute_result"
    }
   ],
   "source": [
    "#Confirm no missing\n",
    "missing_cols = df.isnull().sum()[df.isnull().sum() > 0]\n",
    "missing_cols"
   ]
  },
  {
   "cell_type": "code",
   "execution_count": 228,
   "id": "ae055c74-261b-4441-bacb-c65e96b82d54",
   "metadata": {},
   "outputs": [
    {
     "data": {
      "text/plain": [
       "(61467, 21)"
      ]
     },
     "execution_count": 228,
     "metadata": {},
     "output_type": "execute_result"
    }
   ],
   "source": [
    "df.shape"
   ]
  },
  {
   "cell_type": "code",
   "execution_count": 229,
   "id": "634a48f1-ceff-495a-9d90-e2bfcb89f043",
   "metadata": {},
   "outputs": [],
   "source": [
    "\n",
    "# We will now drop the data before 1980 as they do not give the actual picture of the number of accidents in those years due to insufficiency or inadequacy"
   ]
  },
  {
   "cell_type": "code",
   "execution_count": 230,
   "id": "30e8c482-209b-4b4c-aaa4-8e5de27fabca",
   "metadata": {},
   "outputs": [],
   "source": [
    "df=df[df['Year']>1981]"
   ]
  },
  {
   "cell_type": "code",
   "execution_count": 231,
   "id": "f0c0f2ee-28b8-4846-8861-d8104663c41e",
   "metadata": {},
   "outputs": [
    {
     "data": {
      "text/plain": [
       "(61460, 21)"
      ]
     },
     "execution_count": 231,
     "metadata": {},
     "output_type": "execute_result"
    }
   ],
   "source": [
    "df.shape # 6 records have been dropped"
   ]
  },
  {
   "cell_type": "code",
   "execution_count": 232,
   "id": "33910f4b-4c86-4a42-b34d-3f01c5e9f79b",
   "metadata": {},
   "outputs": [
    {
     "data": {
      "text/html": [
       "<div>\n",
       "<style scoped>\n",
       "    .dataframe tbody tr th:only-of-type {\n",
       "        vertical-align: middle;\n",
       "    }\n",
       "\n",
       "    .dataframe tbody tr th {\n",
       "        vertical-align: top;\n",
       "    }\n",
       "\n",
       "    .dataframe thead th {\n",
       "        text-align: right;\n",
       "    }\n",
       "</style>\n",
       "<table border=\"1\" class=\"dataframe\">\n",
       "  <thead>\n",
       "    <tr style=\"text-align: right;\">\n",
       "      <th></th>\n",
       "      <th>Event_Id</th>\n",
       "      <th>Investigation_Type</th>\n",
       "      <th>Accident_Number</th>\n",
       "      <th>Event_Date</th>\n",
       "      <th>Location</th>\n",
       "      <th>Country</th>\n",
       "      <th>Injury_Severity</th>\n",
       "      <th>Aircraft_damage</th>\n",
       "      <th>Make</th>\n",
       "      <th>Model</th>\n",
       "      <th>...</th>\n",
       "      <th>Number_of_Engines</th>\n",
       "      <th>Engine_Type</th>\n",
       "      <th>Purpose_of_flight</th>\n",
       "      <th>Total_Fatal_Injuries</th>\n",
       "      <th>Total_Serious_Injuries</th>\n",
       "      <th>Total_Minor_Injuries</th>\n",
       "      <th>Total_Uninjured</th>\n",
       "      <th>Weather_Condition</th>\n",
       "      <th>Broad_phase_of_flight</th>\n",
       "      <th>Year</th>\n",
       "    </tr>\n",
       "  </thead>\n",
       "  <tbody>\n",
       "    <tr>\n",
       "      <th>7</th>\n",
       "      <td>20020909X01562</td>\n",
       "      <td>Accident</td>\n",
       "      <td>SEA82DA022</td>\n",
       "      <td>1982-01-01</td>\n",
       "      <td>PULLMAN, WA</td>\n",
       "      <td>United States</td>\n",
       "      <td>Non-Fatal</td>\n",
       "      <td>Substantial</td>\n",
       "      <td>Cessna</td>\n",
       "      <td>140</td>\n",
       "      <td>...</td>\n",
       "      <td>1</td>\n",
       "      <td>Reciprocating</td>\n",
       "      <td>Personal</td>\n",
       "      <td>0.0</td>\n",
       "      <td>0.0</td>\n",
       "      <td>0.0</td>\n",
       "      <td>2.0</td>\n",
       "      <td>VMC</td>\n",
       "      <td>Takeoff</td>\n",
       "      <td>1982</td>\n",
       "    </tr>\n",
       "    <tr>\n",
       "      <th>8</th>\n",
       "      <td>20020909X01561</td>\n",
       "      <td>Accident</td>\n",
       "      <td>NYC82DA015</td>\n",
       "      <td>1982-01-01</td>\n",
       "      <td>EAST HANOVER, NJ</td>\n",
       "      <td>United States</td>\n",
       "      <td>Non-Fatal</td>\n",
       "      <td>Substantial</td>\n",
       "      <td>Cessna</td>\n",
       "      <td>401B</td>\n",
       "      <td>...</td>\n",
       "      <td>2</td>\n",
       "      <td>Reciprocating</td>\n",
       "      <td>Business</td>\n",
       "      <td>0.0</td>\n",
       "      <td>0.0</td>\n",
       "      <td>0.0</td>\n",
       "      <td>2.0</td>\n",
       "      <td>IMC</td>\n",
       "      <td>Landing</td>\n",
       "      <td>1982</td>\n",
       "    </tr>\n",
       "    <tr>\n",
       "      <th>9</th>\n",
       "      <td>20020909X01560</td>\n",
       "      <td>Accident</td>\n",
       "      <td>MIA82DA029</td>\n",
       "      <td>1982-01-01</td>\n",
       "      <td>JACKSONVILLE, FL</td>\n",
       "      <td>United States</td>\n",
       "      <td>Non-Fatal</td>\n",
       "      <td>Substantial</td>\n",
       "      <td>North American</td>\n",
       "      <td>NAVION L-17B</td>\n",
       "      <td>...</td>\n",
       "      <td>1</td>\n",
       "      <td>Reciprocating</td>\n",
       "      <td>Personal</td>\n",
       "      <td>0.0</td>\n",
       "      <td>0.0</td>\n",
       "      <td>3.0</td>\n",
       "      <td>0.0</td>\n",
       "      <td>IMC</td>\n",
       "      <td>Cruise</td>\n",
       "      <td>1982</td>\n",
       "    </tr>\n",
       "  </tbody>\n",
       "</table>\n",
       "<p>3 rows × 21 columns</p>\n",
       "</div>"
      ],
      "text/plain": [
       "         Event_Id Investigation_Type Accident_Number Event_Date  \\\n",
       "7  20020909X01562           Accident      SEA82DA022 1982-01-01   \n",
       "8  20020909X01561           Accident      NYC82DA015 1982-01-01   \n",
       "9  20020909X01560           Accident      MIA82DA029 1982-01-01   \n",
       "\n",
       "           Location        Country Injury_Severity Aircraft_damage  \\\n",
       "7       PULLMAN, WA  United States       Non-Fatal     Substantial   \n",
       "8  EAST HANOVER, NJ  United States       Non-Fatal     Substantial   \n",
       "9  JACKSONVILLE, FL  United States       Non-Fatal     Substantial   \n",
       "\n",
       "             Make         Model  ... Number_of_Engines    Engine_Type  \\\n",
       "7          Cessna           140  ...                 1  Reciprocating   \n",
       "8          Cessna          401B  ...                 2  Reciprocating   \n",
       "9  North American  NAVION L-17B  ...                 1  Reciprocating   \n",
       "\n",
       "  Purpose_of_flight Total_Fatal_Injuries  Total_Serious_Injuries  \\\n",
       "7          Personal                  0.0                     0.0   \n",
       "8          Business                  0.0                     0.0   \n",
       "9          Personal                  0.0                     0.0   \n",
       "\n",
       "   Total_Minor_Injuries  Total_Uninjured  Weather_Condition  \\\n",
       "7                   0.0              2.0                VMC   \n",
       "8                   0.0              2.0                IMC   \n",
       "9                   3.0              0.0                IMC   \n",
       "\n",
       "  Broad_phase_of_flight  Year  \n",
       "7               Takeoff  1982  \n",
       "8               Landing  1982  \n",
       "9                Cruise  1982  \n",
       "\n",
       "[3 rows x 21 columns]"
      ]
     },
     "execution_count": 232,
     "metadata": {},
     "output_type": "execute_result"
    }
   ],
   "source": [
    "df.head(3)"
   ]
  },
  {
   "cell_type": "code",
   "execution_count": 233,
   "id": "754bd983-488c-4656-b863-2454e6c13eb8",
   "metadata": {},
   "outputs": [
    {
     "data": {
      "text/html": [
       "<div>\n",
       "<style scoped>\n",
       "    .dataframe tbody tr th:only-of-type {\n",
       "        vertical-align: middle;\n",
       "    }\n",
       "\n",
       "    .dataframe tbody tr th {\n",
       "        vertical-align: top;\n",
       "    }\n",
       "\n",
       "    .dataframe thead th {\n",
       "        text-align: right;\n",
       "    }\n",
       "</style>\n",
       "<table border=\"1\" class=\"dataframe\">\n",
       "  <thead>\n",
       "    <tr style=\"text-align: right;\">\n",
       "      <th></th>\n",
       "      <th>Number_of_Engines</th>\n",
       "      <th>Total_Fatal_Injuries</th>\n",
       "      <th>Total_Serious_Injuries</th>\n",
       "      <th>Total_Minor_Injuries</th>\n",
       "      <th>Total_Uninjured</th>\n",
       "      <th>Year</th>\n",
       "    </tr>\n",
       "  </thead>\n",
       "  <tbody>\n",
       "    <tr>\n",
       "      <th>count</th>\n",
       "      <td>61460.000000</td>\n",
       "      <td>61460.000000</td>\n",
       "      <td>61460.000000</td>\n",
       "      <td>61460.000000</td>\n",
       "      <td>61460.000000</td>\n",
       "      <td>61460.000000</td>\n",
       "    </tr>\n",
       "    <tr>\n",
       "      <th>mean</th>\n",
       "      <td>1.161211</td>\n",
       "      <td>0.508203</td>\n",
       "      <td>0.248874</td>\n",
       "      <td>0.396668</td>\n",
       "      <td>4.703176</td>\n",
       "      <td>1992.861731</td>\n",
       "    </tr>\n",
       "    <tr>\n",
       "      <th>std</th>\n",
       "      <td>0.425721</td>\n",
       "      <td>2.582943</td>\n",
       "      <td>0.775299</td>\n",
       "      <td>1.599520</td>\n",
       "      <td>24.413473</td>\n",
       "      <td>7.549490</td>\n",
       "    </tr>\n",
       "    <tr>\n",
       "      <th>min</th>\n",
       "      <td>1.000000</td>\n",
       "      <td>0.000000</td>\n",
       "      <td>0.000000</td>\n",
       "      <td>0.000000</td>\n",
       "      <td>0.000000</td>\n",
       "      <td>1982.000000</td>\n",
       "    </tr>\n",
       "    <tr>\n",
       "      <th>25%</th>\n",
       "      <td>1.000000</td>\n",
       "      <td>0.000000</td>\n",
       "      <td>0.000000</td>\n",
       "      <td>0.000000</td>\n",
       "      <td>0.000000</td>\n",
       "      <td>1986.000000</td>\n",
       "    </tr>\n",
       "    <tr>\n",
       "      <th>50%</th>\n",
       "      <td>1.000000</td>\n",
       "      <td>0.000000</td>\n",
       "      <td>0.000000</td>\n",
       "      <td>0.000000</td>\n",
       "      <td>1.000000</td>\n",
       "      <td>1992.000000</td>\n",
       "    </tr>\n",
       "    <tr>\n",
       "      <th>75%</th>\n",
       "      <td>1.000000</td>\n",
       "      <td>0.647855</td>\n",
       "      <td>0.279881</td>\n",
       "      <td>0.357061</td>\n",
       "      <td>2.000000</td>\n",
       "      <td>1999.000000</td>\n",
       "    </tr>\n",
       "    <tr>\n",
       "      <th>max</th>\n",
       "      <td>4.000000</td>\n",
       "      <td>265.000000</td>\n",
       "      <td>81.000000</td>\n",
       "      <td>171.000000</td>\n",
       "      <td>699.000000</td>\n",
       "      <td>2007.000000</td>\n",
       "    </tr>\n",
       "  </tbody>\n",
       "</table>\n",
       "</div>"
      ],
      "text/plain": [
       "       Number_of_Engines  Total_Fatal_Injuries  Total_Serious_Injuries  \\\n",
       "count       61460.000000          61460.000000            61460.000000   \n",
       "mean            1.161211              0.508203                0.248874   \n",
       "std             0.425721              2.582943                0.775299   \n",
       "min             1.000000              0.000000                0.000000   \n",
       "25%             1.000000              0.000000                0.000000   \n",
       "50%             1.000000              0.000000                0.000000   \n",
       "75%             1.000000              0.647855                0.279881   \n",
       "max             4.000000            265.000000               81.000000   \n",
       "\n",
       "       Total_Minor_Injuries  Total_Uninjured          Year  \n",
       "count          61460.000000     61460.000000  61460.000000  \n",
       "mean               0.396668         4.703176   1992.861731  \n",
       "std                1.599520        24.413473      7.549490  \n",
       "min                0.000000         0.000000   1982.000000  \n",
       "25%                0.000000         0.000000   1986.000000  \n",
       "50%                0.000000         1.000000   1992.000000  \n",
       "75%                0.357061         2.000000   1999.000000  \n",
       "max              171.000000       699.000000   2007.000000  "
      ]
     },
     "execution_count": 233,
     "metadata": {},
     "output_type": "execute_result"
    }
   ],
   "source": [
    "# We will now quickly focus on descriptive analysis of numerical variables\n",
    "df.describe(include='number')"
   ]
  },
  {
   "cell_type": "code",
   "execution_count": 234,
   "id": "69891800-cfba-4ab5-b0fd-76783d87c644",
   "metadata": {},
   "outputs": [
    {
     "data": {
      "text/html": [
       "<div>\n",
       "<style scoped>\n",
       "    .dataframe tbody tr th:only-of-type {\n",
       "        vertical-align: middle;\n",
       "    }\n",
       "\n",
       "    .dataframe tbody tr th {\n",
       "        vertical-align: top;\n",
       "    }\n",
       "\n",
       "    .dataframe thead th {\n",
       "        text-align: right;\n",
       "    }\n",
       "</style>\n",
       "<table border=\"1\" class=\"dataframe\">\n",
       "  <thead>\n",
       "    <tr style=\"text-align: right;\">\n",
       "      <th></th>\n",
       "      <th>Event_Id</th>\n",
       "      <th>Investigation_Type</th>\n",
       "      <th>Accident_Number</th>\n",
       "      <th>Event_Date</th>\n",
       "      <th>Location</th>\n",
       "      <th>Country</th>\n",
       "      <th>Injury_Severity</th>\n",
       "      <th>Aircraft_damage</th>\n",
       "      <th>Make</th>\n",
       "      <th>Model</th>\n",
       "      <th>Amateur_Built</th>\n",
       "      <th>Engine_Type</th>\n",
       "      <th>Purpose_of_flight</th>\n",
       "      <th>Weather_Condition</th>\n",
       "      <th>Broad_phase_of_flight</th>\n",
       "    </tr>\n",
       "  </thead>\n",
       "  <tbody>\n",
       "    <tr>\n",
       "      <th>count</th>\n",
       "      <td>61460</td>\n",
       "      <td>61460</td>\n",
       "      <td>61460</td>\n",
       "      <td>61460</td>\n",
       "      <td>61460</td>\n",
       "      <td>61460</td>\n",
       "      <td>61460</td>\n",
       "      <td>61460</td>\n",
       "      <td>61460</td>\n",
       "      <td>61460</td>\n",
       "      <td>61460</td>\n",
       "      <td>61460</td>\n",
       "      <td>61460</td>\n",
       "      <td>61460</td>\n",
       "      <td>61460</td>\n",
       "    </tr>\n",
       "    <tr>\n",
       "      <th>unique</th>\n",
       "      <td>60593</td>\n",
       "      <td>2</td>\n",
       "      <td>61460</td>\n",
       "      <td>9391</td>\n",
       "      <td>16655</td>\n",
       "      <td>47</td>\n",
       "      <td>53</td>\n",
       "      <td>3</td>\n",
       "      <td>4484</td>\n",
       "      <td>8417</td>\n",
       "      <td>2</td>\n",
       "      <td>6</td>\n",
       "      <td>22</td>\n",
       "      <td>3</td>\n",
       "      <td>12</td>\n",
       "    </tr>\n",
       "    <tr>\n",
       "      <th>top</th>\n",
       "      <td>20001212X19172</td>\n",
       "      <td>Accident</td>\n",
       "      <td>SEA82DA022</td>\n",
       "      <td>1984-06-30 00:00:00</td>\n",
       "      <td>ANCHORAGE, AK</td>\n",
       "      <td>United States</td>\n",
       "      <td>Non-Fatal</td>\n",
       "      <td>Substantial</td>\n",
       "      <td>Cessna</td>\n",
       "      <td>152</td>\n",
       "      <td>No</td>\n",
       "      <td>Reciprocating</td>\n",
       "      <td>Personal</td>\n",
       "      <td>VMC</td>\n",
       "      <td>Landing</td>\n",
       "    </tr>\n",
       "    <tr>\n",
       "      <th>freq</th>\n",
       "      <td>3</td>\n",
       "      <td>59559</td>\n",
       "      <td>1</td>\n",
       "      <td>25</td>\n",
       "      <td>442</td>\n",
       "      <td>61110</td>\n",
       "      <td>47980</td>\n",
       "      <td>44915</td>\n",
       "      <td>20715</td>\n",
       "      <td>2116</td>\n",
       "      <td>55934</td>\n",
       "      <td>53113</td>\n",
       "      <td>36405</td>\n",
       "      <td>56206</td>\n",
       "      <td>15340</td>\n",
       "    </tr>\n",
       "    <tr>\n",
       "      <th>first</th>\n",
       "      <td>NaN</td>\n",
       "      <td>NaN</td>\n",
       "      <td>NaN</td>\n",
       "      <td>1982-01-01 00:00:00</td>\n",
       "      <td>NaN</td>\n",
       "      <td>NaN</td>\n",
       "      <td>NaN</td>\n",
       "      <td>NaN</td>\n",
       "      <td>NaN</td>\n",
       "      <td>NaN</td>\n",
       "      <td>NaN</td>\n",
       "      <td>NaN</td>\n",
       "      <td>NaN</td>\n",
       "      <td>NaN</td>\n",
       "      <td>NaN</td>\n",
       "    </tr>\n",
       "    <tr>\n",
       "      <th>last</th>\n",
       "      <td>NaN</td>\n",
       "      <td>NaN</td>\n",
       "      <td>NaN</td>\n",
       "      <td>2007-12-31 00:00:00</td>\n",
       "      <td>NaN</td>\n",
       "      <td>NaN</td>\n",
       "      <td>NaN</td>\n",
       "      <td>NaN</td>\n",
       "      <td>NaN</td>\n",
       "      <td>NaN</td>\n",
       "      <td>NaN</td>\n",
       "      <td>NaN</td>\n",
       "      <td>NaN</td>\n",
       "      <td>NaN</td>\n",
       "      <td>NaN</td>\n",
       "    </tr>\n",
       "  </tbody>\n",
       "</table>\n",
       "</div>"
      ],
      "text/plain": [
       "              Event_Id Investigation_Type Accident_Number  \\\n",
       "count            61460              61460           61460   \n",
       "unique           60593                  2           61460   \n",
       "top     20001212X19172           Accident      SEA82DA022   \n",
       "freq                 3              59559               1   \n",
       "first              NaN                NaN             NaN   \n",
       "last               NaN                NaN             NaN   \n",
       "\n",
       "                 Event_Date       Location        Country Injury_Severity  \\\n",
       "count                 61460          61460          61460           61460   \n",
       "unique                 9391          16655             47              53   \n",
       "top     1984-06-30 00:00:00  ANCHORAGE, AK  United States       Non-Fatal   \n",
       "freq                     25            442          61110           47980   \n",
       "first   1982-01-01 00:00:00            NaN            NaN             NaN   \n",
       "last    2007-12-31 00:00:00            NaN            NaN             NaN   \n",
       "\n",
       "       Aircraft_damage    Make  Model Amateur_Built    Engine_Type  \\\n",
       "count            61460   61460  61460         61460          61460   \n",
       "unique               3    4484   8417             2              6   \n",
       "top        Substantial  Cessna    152            No  Reciprocating   \n",
       "freq             44915   20715   2116         55934          53113   \n",
       "first              NaN     NaN    NaN           NaN            NaN   \n",
       "last               NaN     NaN    NaN           NaN            NaN   \n",
       "\n",
       "       Purpose_of_flight Weather_Condition Broad_phase_of_flight  \n",
       "count              61460             61460                 61460  \n",
       "unique                22                 3                    12  \n",
       "top             Personal               VMC               Landing  \n",
       "freq               36405             56206                 15340  \n",
       "first                NaN               NaN                   NaN  \n",
       "last                 NaN               NaN                   NaN  "
      ]
     },
     "execution_count": 234,
     "metadata": {},
     "output_type": "execute_result"
    }
   ],
   "source": [
    "#Let us now see a quick descriptive analysis of categorical variables\n",
    "df.describe(exclude ='number')"
   ]
  },
  {
   "cell_type": "markdown",
   "id": "3058de15-10e2-4756-bb08-f812de10128d",
   "metadata": {},
   "source": [
    "## Now that the data is fully cleaned , we can now perform further analysis and have more insights drawn"
   ]
  },
  {
   "cell_type": "code",
   "execution_count": 235,
   "id": "f83ac79a-3e31-40d0-b9cb-d32052833970",
   "metadata": {},
   "outputs": [
    {
     "data": {
      "image/png": "[encoded data removed]",
      "text/plain": [
       "<Figure size 864x288 with 1 Axes>"
      ]
     },
     "metadata": {
      "needs_background": "light"
     },
     "output_type": "display_data"
    }
   ],
   "source": [
    "#Check if there is significant pattern in accidents over years\n",
    "yr_count=df.groupby('Year')['Event_Id'].count().reset_index()\n",
    "plt.figure(figsize=(12,4))\n",
    "sns.lineplot(data=yr_count, x='Year', y='Event_Id', marker='d',markersize=10).set(title=\"Number of acidents since 1981\", xlabel='Period', ylabel=' Count of accidents')\n",
    "plt.savefig(\"Linegraph1.png\", dpi=500, bbox_inches=\"tight\")\n",
    "plt.show()\n"
   ]
  },
  {
   "cell_type": "raw",
   "id": "909f0d98-bd00-4357-b8ed-177f8a0db2cd",
   "metadata": {
    "vscode": {
     "languageId": "raw"
    }
   },
   "source": [
    "From the above line graph, we can see that there has been tremendous reduction in number of accidents since 1981.\n",
    "While there could be other underlying factors, technology has reaLly advanced over time. This could explain why we have this phenomena"
   ]
  },
  {
   "cell_type": "code",
   "execution_count": 236,
   "id": "5111b8f2-7975-4597-8824-429e41fbca1d",
   "metadata": {},
   "outputs": [
    {
     "data": {
      "image/png": "[encoded data removed]",
      "text/plain": [
       "<Figure size 576x432 with 1 Axes>"
      ]
     },
     "metadata": {
      "needs_background": "light"
     },
     "output_type": "display_data"
    }
   ],
   "source": [
    "# Lets also explore the effect of weather in regards to the accidents\n",
    "Weather_cnd=df.groupby(['Weather_Condition','Aircraft_damage'])['Event_Id'].count().reset_index()\n",
    "plt.figure(figsize=(8,6))\n",
    "sns.barplot(data=Weather_cnd, x='Weather_Condition', y='Event_Id', hue='Aircraft_damage').set(title=\"Number of acidents based on weather condition measuring tool\", xlabel='Weather condition tool & Extent of damage', ylabel=' Count of accidents')\n",
    "#Export the graph\n",
    "plt.savefig(\"barplot4.png\", dpi=500, bbox_inches=\"tight\")\n",
    "\n",
    "#Render the output\n",
    "plt.show()"
   ]
  },
  {
   "cell_type": "raw",
   "id": "16117a50-4a62-4702-809e-8c9834b0dc02",
   "metadata": {
    "vscode": {
     "languageId": "raw"
    }
   },
   "source": [
    "From the above, accidents were rampant when the pilots decided to navigate visually without relying on instruments (VMC). \n",
    "For accidents where pilots used the instruments, we can see the cases were very minimal. \n",
    "\n",
    "Exploring the extent of damage, we had substantial damage and total destruction where pilots used VMC. This is a representation of their proportion in the \n",
    "total accidents however. On the contrary, we can see that accidents linked to IMC, there is little damage."
   ]
  },
  {
   "cell_type": "code",
   "execution_count": 237,
   "id": "9a0fabca-56f7-4d98-b24c-abab9475bbd2",
   "metadata": {},
   "outputs": [
    {
     "data": {
      "image/png": "[encoded data removed]",
      "text/plain": [
       "<Figure size 576x432 with 1 Axes>"
      ]
     },
     "metadata": {
      "needs_background": "light"
     },
     "output_type": "display_data"
    }
   ],
   "source": [
    "# We further would like to check the accidents occurence with the intended purpose of the aircraft\n",
    "\n",
    "\n",
    "purp=df.groupby(['Purpose_of_flight'])['Event_Id'].count().reset_index().sort_values(by='Event_Id', ascending=False).head(10)\n",
    "plt.figure(figsize=(8,6))\n",
    "sns.barplot(data=purp, y='Purpose_of_flight', x='Event_Id', orient=\"h\").set(title=\"Number of acidents based on the purpose -Top 10\", ylabel='Purpose', xlabel=' Count of accidents')\n",
    "\n",
    "#Export the graph\n",
    "plt.savefig(\"barplot2.png\", dpi=500, bbox_inches=\"tight\")\n",
    "\n",
    "#Render the output\n",
    "plt.show()"
   ]
  },
  {
   "cell_type": "raw",
   "id": "8648255c-6870-4eec-814c-7791e87f8d07",
   "metadata": {
    "vscode": {
     "languageId": "raw"
    }
   },
   "source": [
    "From the bargraph above, aircraft used for personal and training/instructional topped the accidents. While it is understandable \n",
    "in the case of instructional, the personal purpose is quite a grey area. Further investigation or analysis should be done to ascertain this problem.\n",
    "\n",
    "Training aircraft face higher accident risks due to novice pilots practicing maneuvers and frequent takeoffs/landings. \n",
    "\n",
    "Personal-use aircraft accidents stem from lax maintenance, less formal pilot training, and older technology, as recreational flights often lack rigorous safety protocols.\n",
    "Strict regulations  advanced technology, and highly trained crews ensure commercial aviation safety. \n",
    "Modern systems, routine inspections, and professional expertise minimize risks hence the low number of accidents.\n",
    "\n",
    "We also see that public aircraft had the least accidents. While this could be interpretted as the commercial category, it is evident that there is \n",
    "much care, expertise, conforming to standards for this aircraft. \n",
    "\n",
    "To understand this better, it is worth to check the relationship between the purpose and the engine type to ascertain this further  Refer to the below chart"
   ]
  },
  {
   "cell_type": "code",
   "execution_count": 238,
   "id": "98e77ad7-ce54-476c-925e-3057f0189317",
   "metadata": {},
   "outputs": [
    {
     "data": {
      "image/png": "[encoded data removed]",
      "text/plain": [
       "<Figure size 864x576 with 1 Axes>"
      ]
     },
     "metadata": {
      "needs_background": "light"
     },
     "output_type": "display_data"
    }
   ],
   "source": [
    "#We further would like to check the accidents occurence with the intended purpose and Engine type of the aircraft\n",
    "\n",
    "\n",
    "# Group data and replace NaN with 0\n",
    "purpose_engine = df.groupby(['Purpose_of_flight', 'Engine_Type'])['Event_Id'] \\\n",
    "                   .count() \\\n",
    "                   .reset_index(name='Accident_Count') \\\n",
    "                   .fillna(0)  # Replace NaN with 0\n",
    "purpose_engine = purpose_engine.sort_values(by='Accident_Count', ascending=False).head(10)\n",
    "\n",
    "# Create visualization\n",
    "plt.figure(figsize=(12, 8))\n",
    "ax = sns.barplot(\n",
    "    data=purpose_engine,\n",
    "    y='Purpose_of_flight',\n",
    "    x='Accident_Count',\n",
    "    hue='Engine_Type',\n",
    "    palette='viridis',\n",
    "    dodge=False\n",
    ")\n",
    "\n",
    "# Add labels only if value is valid\n",
    "for p in ax.patches:\n",
    "    width = p.get_width()\n",
    "    if not np.isnan(width) and width > 0:  # Skip NaN/zero\n",
    "        ax.annotate(\n",
    "            f\"{int(width)}\",\n",
    "            (width, p.get_y() + p.get_height()/2),\n",
    "            ha='left', va='center',\n",
    "            xytext=(5, 0),\n",
    "            textcoords='offset points',\n",
    "            fontsize=10\n",
    "        )\n",
    "\n",
    "# Keep the rest of the styling code\n",
    "plt.title(\"Top 10 Aircraft Accident Combinations: Purpose & Engine Type\", pad=20, fontsize=14)\n",
    "plt.xlabel(\"Number of Accidents\", fontsize=12)\n",
    "plt.ylabel(\"Flight Purpose\", fontsize=12)\n",
    "plt.legend(title='Engine Type', bbox_to_anchor=(1.05, 0.95), loc='upper left')\n",
    "plt.tight_layout()\n",
    "plt.show()"
   ]
  },
  {
   "cell_type": "markdown",
   "id": "41e45423",
   "metadata": {},
   "source": [
    "#### Reciprocating engine type is undoubtedly the biggest cause of accidents in the aircrafts. There need to be a lot of caution when purchasing aircrafts with these types of engines"
   ]
  },
  {
   "cell_type": "code",
   "execution_count": 239,
   "id": "cb8d4aec",
   "metadata": {},
   "outputs": [
    {
     "name": "stdout",
     "output_type": "stream",
     "text": [
      "Total_Fatal_Injuries      0\n",
      "Total_Serious_Injuries    0\n",
      "Total_Minor_Injuries      0\n",
      "Total_Uninjured           0\n",
      "Year                      0\n",
      "dtype: int64\n"
     ]
    }
   ],
   "source": [
    "#We will use mean to replace the missing values of numerical variables\n",
    "# Step 1: Select numerical columns\n",
    "num_var = df.select_dtypes(include=['int64', 'float64'])\n",
    "\n",
    "# Step 2: Fill missing values with column means\n",
    "df[num_var.columns] = df[num_var.columns].fillna(df[num_var.columns].mean())\n",
    "\n",
    "# Verify no missing values in numerical columns\n",
    "print(df[num_var.columns].isnull().sum())"
   ]
  },
  {
   "cell_type": "code",
   "execution_count": 240,
   "id": "269cab74",
   "metadata": {},
   "outputs": [
    {
     "name": "stdout",
     "output_type": "stream",
     "text": [
      "Total_Fatal_Injuries      0\n",
      "Total_Serious_Injuries    0\n",
      "Total_Minor_Injuries      0\n",
      "Total_Uninjured           0\n",
      "Year                      0\n",
      "dtype: int64\n"
     ]
    }
   ],
   "source": [
    "#We will use mean to replace the missing values of numerical variables\n",
    "# Step 1: Select numerical columns\n",
    "num_var = df.select_dtypes(include=['int64', 'float64'])\n",
    "\n",
    "# Step 2: Fill missing values with column means\n",
    "df[num_var.columns] = df[num_var.columns].fillna(df[num_var.columns].mean())\n",
    "\n",
    "# Verify no missing values in numerical columns\n",
    "print(df[num_var.columns].isnull().sum())"
   ]
  },
  {
   "cell_type": "raw",
   "id": "61551034-9601-463a-ba56-e09047f0a268",
   "metadata": {},
   "source": [
    "It goes without saying that the Reciprocating Engine is problematic"
   ]
  },
  {
   "cell_type": "code",
   "execution_count": 241,
   "id": "d23de14b-3e10-4e62-8166-c4ed89364c46",
   "metadata": {},
   "outputs": [
    {
     "data": {
      "image/png": "[encoded data removed]",
      "text/plain": [
       "<Figure size 864x504 with 1 Axes>"
      ]
     },
     "metadata": {
      "needs_background": "light"
     },
     "output_type": "display_data"
    },
    {
     "name": "stdout",
     "output_type": "stream",
     "text": [
      "\n",
      "Accident Count by Engine Configuration:\n",
      "| Number_of_Engines   | Accident_Count   |\n",
      "|:--------------------|:-----------------|\n",
      "| 1                   | 52642            |\n",
      "| 2                   | 8052             |\n",
      "| 3                   | 442              |\n",
      "| 4                   | 324              |\n"
     ]
    }
   ],
   "source": [
    "#Let us check the influence of number of engines and the number of accidents\n",
    "\n",
    "\n",
    "\n",
    "# 1. Data Preparation\n",
    "engine_accidents = (df.dropna(subset=['Number_of_Engines'])  # Remove missing values\n",
    "                   .groupby('Number_of_Engines', as_index=False)\n",
    "                   .agg(Accident_Count=('Event_Id', 'count'))\n",
    "                   .sort_values('Number_of_Engines'))  # Sort by engine count for logical ordering\n",
    "\n",
    "# 2. Create Visualization\n",
    "plt.figure(figsize=(12, 7))\n",
    "ax = sns.barplot(data=engine_accidents, \n",
    "                 x='Number_of_Engines', \n",
    "                 y='Accident_Count',\n",
    "                 palette='viridis',\n",
    "                 edgecolor='black')\n",
    "\n",
    "# 3. Add Value Labels\n",
    "for p in ax.patches:\n",
    "    ax.annotate(f\"{int(p.get_height()):,}\", \n",
    "                (p.get_x() + p.get_width()/2, p.get_height()),\n",
    "                ha='center', va='bottom',\n",
    "                fontsize=10,\n",
    "                xytext=(0, 5),\n",
    "                textcoords='offset points')\n",
    "\n",
    "# 4. Style Enhancements\n",
    "plt.title(\"Aircraft Accident Frequency by Engine Count\", \n",
    "          pad=20, fontsize=16, fontweight='bold')\n",
    "plt.xlabel(\"Number of Engines\", fontsize=12, labelpad=10)\n",
    "plt.ylabel(\"Number of Accidents\", fontsize=12, labelpad=10)\n",
    "plt.xticks(fontsize=11)\n",
    "plt.yticks(fontsize=11)\n",
    "sns.despine()  # Clean up plot borders\n",
    "\n",
    "# 5. Save and Show\n",
    "plt.savefig(\"engine_accident_analysis.png\", \n",
    "           dpi=600, \n",
    "           bbox_inches=\"tight\",\n",
    "           transparent=False)\n",
    "plt.show()\n",
    "\n",
    "# 6. Display Supporting Data\n",
    "print(\"\\nAccident Count by Engine Configuration:\")\n",
    "print(engine_accidents.to_markdown(index=False, numalign=\"left\", stralign=\"left\"))"
   ]
  },
  {
   "cell_type": "markdown",
   "id": "8cf97216",
   "metadata": {},
   "source": [
    "\n",
    "\n",
    "Aircraft with 1 engine account for the highest accident rates\n",
    "\n",
    "2- and 4-engine aircraft show significantly fewer accidents\n",
    "\n",
    "Accident rates decrease disproportionately with added engines e.g 4 engines don’t reduce accidents by 4x vs. 1 engine, suggesting safety depends more on operational context than engine count alone."
   ]
  },
  {
   "cell_type": "code",
   "execution_count": 242,
   "id": "2a0cd24b",
   "metadata": {},
   "outputs": [
    {
     "name": "stdout",
     "output_type": "stream",
     "text": [
      "Total_Fatal_Injuries      0\n",
      "Total_Serious_Injuries    0\n",
      "Total_Minor_Injuries      0\n",
      "Total_Uninjured           0\n",
      "Year                      0\n",
      "dtype: int64\n"
     ]
    }
   ],
   "source": [
    "#We will use mean to replace the missing values of numerical variables\n",
    "# Step 1: Select numerical columns\n",
    "num_var = df.select_dtypes(include=['int64', 'float64'])\n",
    "\n",
    "# Step 2: Fill missing values with column means\n",
    "df[num_var.columns] = df[num_var.columns].fillna(df[num_var.columns].mean())\n",
    "\n",
    "# Verify no missing values in numerical columns\n",
    "print(df[num_var.columns].isnull().sum())"
   ]
  },
  {
   "cell_type": "code",
   "execution_count": 243,
   "id": "a4abbe34-afe8-4694-bcf7-f0ef62d7a63a",
   "metadata": {},
   "outputs": [],
   "source": [
    "#Aggregate all injuries \n",
    "df['Total_injuries']=df['Total_Fatal_Injuries']+df['Total_Serious_Injuries']+df['Total_Minor_Injuries']\n",
    "\n",
    "#Group total injuries per year\n",
    "cnt_injuries=df.groupby(['Year'])['Total_injuries'].sum().reset_index().sort_values(by='Year', ascending=True)\n",
    "\n",
    "#Group total of uninjured per year\n",
    "no_injuries=df.groupby(['Year'])['Total_Uninjured'].count().reset_index().sort_values(by='Year', ascending=True)"
   ]
  },
  {
   "cell_type": "code",
   "execution_count": 244,
   "id": "b7e64f85-077e-4cdc-bd9d-15bcfa382a47",
   "metadata": {},
   "outputs": [
    {
     "data": {
      "image/png": "[encoded data removed]",
      "text/plain": [
       "<Figure size 1080x360 with 1 Axes>"
      ]
     },
     "metadata": {
      "needs_background": "light"
     },
     "output_type": "display_data"
    }
   ],
   "source": [
    "#Plot 2 graphs showing evolution of injuries and no injuries over time\n",
    "plt.figure(figsize=(15,5))\n",
    "\n",
    "sns.lineplot(data=cnt_injuries, x='Year', y='Total_injuries', label='Total Injuries since 1981', marker='s', markersize=7, linestyle='dotted')\n",
    "sns.lineplot(data=no_injuries, x='Year', y='Total_Uninjured', label='Total Uninjured since 1981', marker='d', markersize=5, linestyle='dashdot')\n",
    "\n",
    "plt.xlabel('Years')\n",
    "plt.ylabel('Value')\n",
    "plt.title('Total Number of injured and uninjured over the years')\n",
    "plt.legend()\n",
    "\n",
    "#Export the graph\n",
    "plt.savefig(\"linegraph2.png\", dpi=500, bbox_inches=\"tight\")\n",
    "\n",
    "#Render plot\n",
    "plt.show()"
   ]
  },
  {
   "attachments": {},
   "cell_type": "markdown",
   "id": "f62a1c8f-b957-4650-8ced-1a297311c7c4",
   "metadata": {},
   "source": [
    "## Recommendation\n",
    "\n",
    "The decrease in aviation accidents since since after 1981 is encouraging, but there are countries that one needs to deploy more measures to safeguard life and business. In high-accident states, there should be a concerted effort to increase surveillance and regulatory enforcement activities to mitigate the risks associated with aviation accidents.\n",
    "\n",
    "Based on the fact that we had a high visual determining of weather, it is an indication that many accidents happened on a good weather, provoking pilots to use their eyes/visual for decision making. It is imperative to  reinforce guidance and adherence to protocals  when in the sky unless it is unavoidable.\n",
    "\n",
    "\n",
    "The purpose came out as a big contributing factor in the number of accidents. Looking at the business model our stakeholder is interested in, business/commercial purpose seem to be in line with decreased accidents. \n",
    "\n",
    "At of the look of things, increased number of engines is a guarantee in eradication of accidents. While it would have a potential implication on the cost as well, this can better concluded when cost is in play"
   ]
  },
  {
   "cell_type": "code",
   "execution_count": null,
   "id": "c75106e6-ba17-48d2-8179-beb3caa3c290",
   "metadata": {},
   "outputs": [],
   "source": []
  }
 ],
 "metadata": {
  "kernelspec": {
   "display_name": "base",
   "language": "python",
   "name": "python3"
  },
  "language_info": {
   "codemirror_mode": {
    "name": "ipython",
    "version": 3
   },
   "file_extension": ".py",
   "mimetype": "text/x-python",
   "name": "python",
   "nbconvert_exporter": "python",
   "pygments_lexer": "ipython3",
   "version": "3.9.12"
  }
 },
 "nbformat": 4,
 "nbformat_minor": 5
}
